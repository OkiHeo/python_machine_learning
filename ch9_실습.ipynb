{
  "nbformat": 4,
  "nbformat_minor": 0,
  "metadata": {
    "colab": {
      "name": "ch9 실습.ipynb",
      "provenance": [],
      "authorship_tag": "ABX9TyP/I/2sQr0gGwjyNILRrWH3",
      "include_colab_link": true
    },
    "kernelspec": {
      "name": "python3",
      "display_name": "Python 3"
    }
  },
  "cells": [
    {
      "cell_type": "markdown",
      "metadata": {
        "id": "view-in-github",
        "colab_type": "text"
      },
      "source": [
        "<a href=\"https://colab.research.google.com/github/OkiHeo/python_machine_learning/blob/master/ch9_%EC%8B%A4%EC%8A%B5.ipynb\" target=\"_parent\"><img src=\"https://colab.research.google.com/assets/colab-badge.svg\" alt=\"Open In Colab\"/></a>"
      ]
    },
    {
      "cell_type": "markdown",
      "metadata": {
        "id": "geN_UsTroGuX",
        "colab_type": "text"
      },
      "source": [
        "# MNIST의 딥러닝"
      ]
    },
    {
      "cell_type": "code",
      "metadata": {
        "id": "21rEYCk1oC0s",
        "colab_type": "code",
        "colab": {
          "base_uri": "https://localhost:8080/",
          "height": 94
        },
        "outputId": "cbab08d2-3da8-418c-ccb6-223376057045"
      },
      "source": [
        "import tensorflow.compat.v1 as tf\n",
        "tf.disable_v2_behavior()\n",
        "\n",
        "#------------------------------------------------------------------\n",
        "\n",
        "from keras.datasets import mnist\n",
        "(x_train, y_train), (x_test, y_test) = mnist.load_data()"
      ],
      "execution_count": 3,
      "outputs": [
        {
          "output_type": "stream",
          "text": [
            "WARNING:tensorflow:From /usr/local/lib/python3.6/dist-packages/tensorflow_core/python/compat/v2_compat.py:68: disable_resource_variables (from tensorflow.python.ops.variable_scope) is deprecated and will be removed in a future version.\n",
            "Instructions for updating:\n",
            "non-resource variables are not supported in the long term\n"
          ],
          "name": "stdout"
        }
      ]
    },
    {
      "cell_type": "code",
      "metadata": {
        "id": "3O1CnRBQoxxf",
        "colab_type": "code",
        "colab": {
          "base_uri": "https://localhost:8080/",
          "height": 226
        },
        "outputId": "83935c71-b8ae-4336-d61e-ee729b63dffe"
      },
      "source": [
        "import numpy as np\n",
        "import matplotlib.pyplot as plt\n",
        "%matplotlib inline\n",
        "\n",
        "plt.figure(1, figsize=(12, 3.2))\n",
        "plt.subplots_adjust(wspace=0.5)\n",
        "plt.gray()\n",
        "\n",
        "for id in range(3):\n",
        "    plt.subplot(1, 3, id+1)\n",
        "    img = x_train[id, :, :]     # id번째 이미지 (28x28)를 img에 저장\n",
        "    plt.pcolor(255-img)\n",
        "    plt.text(24.5, 26, \"%d\" %y_train[id], color='blue', fontsize=18)\n",
        "    plt.xlim(0, 27)\n",
        "    plt.ylim(27, 0)\n",
        "    plt.grid('on', color='white')\n",
        "plt.show()"
      ],
      "execution_count": 5,
      "outputs": [
        {
          "output_type": "display_data",
          "data": {
            "image/png": "[encoded data removed]",
            "text/plain": [
              "<Figure size 864x230.4 with 3 Axes>"
            ]
          },
          "metadata": {
            "tags": []
          }
        }
      ]
    },
    {
      "cell_type": "markdown",
      "metadata": {
        "id": "WG5tlCvqpjK_",
        "colab_type": "text"
      },
      "source": [
        "y_train[id] 에는 x_train[id, :, :]에 해당하는 숫자가 저장되어있다."
      ]
    },
    {
      "cell_type": "markdown",
      "metadata": {
        "id": "iXQOPNgxpvyX",
        "colab_type": "text"
      },
      "source": [
        "## 2층 피드 포워드 네트워크 모델"
      ]
    },
    {
      "cell_type": "code",
      "metadata": {
        "id": "dEPzcYd6ptlZ",
        "colab_type": "code",
        "colab": {}
      },
      "source": [
        "from keras.utils import np_utils\n",
        "\n",
        "\n",
        "x_train = x_train.reshape(60000, 784)     # 60000x(28x28) -> 60000x784로 변환. 3차원배열을 2차원배열로 reshape\n",
        "x_train = x_train.astype('float32')       # 저장된 값의 자료형을 float32형으로 변환\n",
        "x_train = x_train/255                     # 0~1사이의 실수 값으로 변환한다.\n",
        "\n",
        "num_classes = 10                          # 0~9를 표시하는 이미지라는 클래스가 존재한다.\n",
        "\n",
        "y_train = np_utils.to_categorical(y_train, num_classes)     # y_train의 요소를 1-of-K 부호화법으로 변경한다.-> 10*10배열에서 y_train값에 해당하는 부분만 1으로 표기되어있겠다.\n",
        "\n",
        "x_test = x_test.reshape(10000, 784)       # 10000x(28x28) -> 10000x784로 변환. 3차원배열->2차원배열\n",
        "x_test = x_test.astype('float32')\n",
        "x_test = x_test/255\n",
        "\n",
        "y_test = np_utils.to_categorical(y_test, num_classes)"
      ],
      "execution_count": 0,
      "outputs": []
    },
    {
      "cell_type": "markdown",
      "metadata": {
        "id": "-Fe3K5ETrc3b",
        "colab_type": "text"
      },
      "source": [
        "* 1-of-K 부호화\n",
        " \n",
        " [[0 1 0]\n",
        " \n",
        " [1 0 0]\n",
        " \n",
        " [1 0 0]\n",
        " \n",
        " [0 1 0]\n",
        " \n",
        " [1 0 0]]\n",
        " \n",
        " 클래스 1, 0, 0, 1, 0에 속한다는 표기법. 자신이 속한 클래스 이외의 클래스는 0으로 표기하는 표기법."
      ]
    },
    {
      "cell_type": "markdown",
      "metadata": {
        "id": "UU6VxAuSsRad",
        "colab_type": "text"
      },
      "source": [
        "1. 입력 : 784차원 벡터\n",
        "2. 중간층 : 16개의 뉴런. by 시그모이드함수\n",
        "3. 출력층 : 10개의 뉴런 by 소프트맥스함수."
      ]
    },
    {
      "cell_type": "code",
      "metadata": {
        "id": "LlSZUD24sK9s",
        "colab_type": "code",
        "colab": {
          "base_uri": "https://localhost:8080/",
          "height": 93
        },
        "outputId": "53f6cc2d-0d1e-4a72-82ac-ed6cf42963ed"
      },
      "source": [
        "np.random.seed(1)\n",
        "from keras.models import Sequential\n",
        "from keras.layers import Dense, Activation\n",
        "from keras.optimizers import Adam\n",
        "\n",
        "\n",
        "model = Sequential()      # 하나의 네트워크는 Sequential 객체이다. Sequential객체에 레이어를 하나하나 추가하는 것.\n",
        "model.add(Dense(16, input_dim=784, activation='sigmoid'))     # 첫 번째 층(중간층) : 16개의 뉴런, 입력은 784차원벡터. 활성화함수는 시그모이드\n",
        "model.add(Dense(10, activation='softmax'))                    # 두 번째 층(출력층) : 10개의 뉴런, 입력은 앞에서 주어졌으므로 생략. 활성화함수는 소프트맥스\n",
        "\n",
        "model.compile(loss='categorical_crossentropy', optimizer=Adam(), metrics=['accuracy'])                # 모델의 학습과정(오차함수, 최적화방법) 설정하는 함수. 오차함수를 교차 엔트로피 함수로 설정하고있다.\n",
        "                                                                                                      # 최적화방법으로는 Adam() 알고리즘을 설정했다.(세련된버전의 경사하강법), 평가 기준은 metrics로 'accuracy'를 지정했다.                                        "
      ],
      "execution_count": 8,
      "outputs": [
        {
          "output_type": "stream",
          "text": [
            "WARNING:tensorflow:From /usr/local/lib/python3.6/dist-packages/keras/optimizers.py:793: The name tf.train.Optimizer is deprecated. Please use tf.compat.v1.train.Optimizer instead.\n",
            "\n",
            "WARNING:tensorflow:From /usr/local/lib/python3.6/dist-packages/keras/backend/tensorflow_backend.py:3576: The name tf.log is deprecated. Please use tf.math.log instead.\n",
            "\n"
          ],
          "name": "stdout"
        }
      ]
    },
    {
      "cell_type": "code",
      "metadata": {
        "id": "2hkQ3vwruCDa",
        "colab_type": "code",
        "colab": {
          "base_uri": "https://localhost:8080/",
          "height": 853
        },
        "outputId": "83c988da-d886-4f59-dd2b-ce9444133ece"
      },
      "source": [
        "import time\n",
        "\n",
        "\n",
        "startTime = time.time()\n",
        "history = model.fit(x_train, y_train, epochs=10, batch_size=1000, verbose=1, validation_data=(x_test, y_test))     # 학습과정을 보이도록 설정.\n",
        "\n",
        "score = model.evaluate(x_test, y_test, verbose=0)       # 모델을 평가한다. x_test와 y_test데이터를 사용. 평가과정은 보이지 않도록 설정.\n",
        "\n",
        "print('Test loss: ', score[0])    # model.evaluate의 첫 번째 리턴값은 loss임.\n",
        "print('Test accuracy: ', score[1]) # model.evaluate의 두 번째 리턴값은 accuracy임.\n",
        "print(\"Computation time:{0:.3f} sec.\".format(time.time()-startTime))      # 모델 학습, 평가에 걸린 시간 출력."
      ],
      "execution_count": 10,
      "outputs": [
        {
          "output_type": "stream",
          "text": [
            "WARNING:tensorflow:From /usr/local/lib/python3.6/dist-packages/tensorflow_core/python/ops/math_grad.py:1424: where (from tensorflow.python.ops.array_ops) is deprecated and will be removed in a future version.\n",
            "Instructions for updating:\n",
            "Use tf.where in 2.0, which has the same broadcast rule as np.where\n",
            "WARNING:tensorflow:From /usr/local/lib/python3.6/dist-packages/keras/backend/tensorflow_backend.py:1033: The name tf.assign_add is deprecated. Please use tf.compat.v1.assign_add instead.\n",
            "\n",
            "WARNING:tensorflow:From /usr/local/lib/python3.6/dist-packages/keras/backend/tensorflow_backend.py:1020: The name tf.assign is deprecated. Please use tf.compat.v1.assign instead.\n",
            "\n",
            "WARNING:tensorflow:From /usr/local/lib/python3.6/dist-packages/keras/backend/tensorflow_backend.py:3005: The name tf.Session is deprecated. Please use tf.compat.v1.Session instead.\n",
            "\n",
            "Train on 60000 samples, validate on 10000 samples\n",
            "Epoch 1/10\n",
            "WARNING:tensorflow:From /usr/local/lib/python3.6/dist-packages/keras/backend/tensorflow_backend.py:190: The name tf.get_default_session is deprecated. Please use tf.compat.v1.get_default_session instead.\n",
            "\n",
            "WARNING:tensorflow:From /usr/local/lib/python3.6/dist-packages/keras/backend/tensorflow_backend.py:197: The name tf.ConfigProto is deprecated. Please use tf.compat.v1.ConfigProto instead.\n",
            "\n",
            "WARNING:tensorflow:From /usr/local/lib/python3.6/dist-packages/keras/backend/tensorflow_backend.py:207: The name tf.global_variables is deprecated. Please use tf.compat.v1.global_variables instead.\n",
            "\n",
            "WARNING:tensorflow:From /usr/local/lib/python3.6/dist-packages/keras/backend/tensorflow_backend.py:216: The name tf.is_variable_initialized is deprecated. Please use tf.compat.v1.is_variable_initialized instead.\n",
            "\n",
            "WARNING:tensorflow:From /usr/local/lib/python3.6/dist-packages/keras/backend/tensorflow_backend.py:223: The name tf.variables_initializer is deprecated. Please use tf.compat.v1.variables_initializer instead.\n",
            "\n",
            "60000/60000 [==============================] - 1s 18us/step - loss: 2.0678 - acc: 0.2850 - val_loss: 1.7899 - val_acc: 0.4947\n",
            "Epoch 2/10\n",
            "60000/60000 [==============================] - 0s 7us/step - loss: 1.6088 - acc: 0.6482 - val_loss: 1.4403 - val_acc: 0.7655\n",
            "Epoch 3/10\n",
            "60000/60000 [==============================] - 0s 7us/step - loss: 1.3225 - acc: 0.7870 - val_loss: 1.2014 - val_acc: 0.8196\n",
            "Epoch 4/10\n",
            "60000/60000 [==============================] - 0s 7us/step - loss: 1.1162 - acc: 0.8241 - val_loss: 1.0222 - val_acc: 0.8440\n",
            "Epoch 5/10\n",
            "60000/60000 [==============================] - 0s 8us/step - loss: 0.9575 - acc: 0.8433 - val_loss: 0.8824 - val_acc: 0.8579\n",
            "Epoch 6/10\n",
            "60000/60000 [==============================] - 0s 8us/step - loss: 0.8336 - acc: 0.8582 - val_loss: 0.7743 - val_acc: 0.8705\n",
            "Epoch 7/10\n",
            "60000/60000 [==============================] - 0s 8us/step - loss: 0.7381 - acc: 0.8689 - val_loss: 0.6904 - val_acc: 0.8795\n",
            "Epoch 8/10\n",
            "60000/60000 [==============================] - 0s 7us/step - loss: 0.6634 - acc: 0.8775 - val_loss: 0.6251 - val_acc: 0.8866\n",
            "Epoch 9/10\n",
            "60000/60000 [==============================] - 0s 7us/step - loss: 0.6040 - acc: 0.8833 - val_loss: 0.5727 - val_acc: 0.8916\n",
            "Epoch 10/10\n",
            "60000/60000 [==============================] - 0s 7us/step - loss: 0.5559 - acc: 0.8890 - val_loss: 0.5300 - val_acc: 0.8949\n",
            "Test loss:  0.5299613534927368\n",
            "Test accuracy:  0.8949\n",
            "Computation time:5.575 sec.\n"
          ],
          "name": "stdout"
        }
      ]
    },
    {
      "cell_type": "code",
      "metadata": {
        "id": "btzhRMlovDxG",
        "colab_type": "code",
        "colab": {
          "base_uri": "https://localhost:8080/",
          "height": 283
        },
        "outputId": "a056611c-8d6b-48aa-f1ac-40213564d26b"
      },
      "source": [
        "### 오버피팅이 일어나지 않았는지 테스트 데이터 오차의 시간 변화를 나타내보자.\n",
        "\n",
        "import numpy as np\n",
        "import matplotlib.pyplot as plt\n",
        "%matplotlib inline\n",
        "\n",
        "\n",
        "plt.figure(1, figsize=(10, 4))\n",
        "plt.subplots_adjust(wspace=0.5)\n",
        "\n",
        "\n",
        "plt.subplot(1, 2, 1)\n",
        "plt.plot(history.history['loss'], label='training', color='black')\n",
        "plt.plot(history.history['val_loss'], label='test', color='cornflowerblue')\n",
        "plt.ylim(0, 10)\n",
        "plt.legend()\n",
        "plt.grid(True)\n",
        "plt.xlabel('epoch')\n",
        "plt.ylabel('loss')\n",
        "\n",
        "\n",
        "plt.subplot(1, 2, 2)\n",
        "plt.plot(history.history['acc'], label='trainining', color='black')\n",
        "plt.plot(history.history['val_acc'], label='test', color='cornflowerblue')\n",
        "plt.ylim(0, 1)      # accuracy는 0~1 사이의 값\n",
        "plt.legend()\n",
        "plt.grid(True)\n",
        "plt.xlabel('epoch')\n",
        "plt.ylabel('acc')\n",
        "\n",
        "\n",
        "plt.show()"
      ],
      "execution_count": 14,
      "outputs": [
        {
          "output_type": "display_data",
          "data": {
            "image/png": "[encoded data removed]",
            "text/plain": [
              "<Figure size 720x288 with 2 Axes>"
            ]
          },
          "metadata": {
            "tags": []
          }
        }
      ]
    },
    {
      "cell_type": "markdown",
      "metadata": {
        "id": "Ydu53WUMw945",
        "colab_type": "text"
      },
      "source": [
        "정답률이 증가중... 훈련 데이터의 오차는 줄어들도록 학습시켰으니 당연히 줄어드는 것이고,\n",
        "\n",
        "\n",
        "테스트 데이터의 오차도 단조감소 하고 있으므로 오버피팅이 일어나지 않았다고 할 수 있다."
      ]
    },
    {
      "cell_type": "code",
      "metadata": {
        "id": "pCMa4Rj-wJPE",
        "colab_type": "code",
        "colab": {
          "base_uri": "https://localhost:8080/",
          "height": 1000
        },
        "outputId": "3caf9b2a-a04e-4e7a-b0e4-dccbcd97f87f"
      },
      "source": [
        "help(model.fit)"
      ],
      "execution_count": 15,
      "outputs": [
        {
          "output_type": "stream",
          "text": [
            "Help on method fit in module keras.engine.training:\n",
            "\n",
            "fit(x=None, y=None, batch_size=None, epochs=1, verbose=1, callbacks=None, validation_split=0.0, validation_data=None, shuffle=True, class_weight=None, sample_weight=None, initial_epoch=0, steps_per_epoch=None, validation_steps=None, validation_freq=1, max_queue_size=10, workers=1, use_multiprocessing=False, **kwargs) method of keras.engine.sequential.Sequential instance\n",
            "    Trains the model for a fixed number of epochs (iterations on a dataset).\n",
            "    \n",
            "    # Arguments\n",
            "        x: Input data. It could be:\n",
            "            - A Numpy array (or array-like), or a list of arrays\n",
            "              (in case the model has multiple inputs).\n",
            "            - A dict mapping input names to the corresponding\n",
            "              array/tensors, if the model has named inputs.\n",
            "            - A generator or `keras.utils.Sequence` returning\n",
            "              `(inputs, targets)` or `(inputs, targets, sample weights)`.\n",
            "            - None (default) if feeding from framework-native\n",
            "              tensors (e.g. TensorFlow data tensors).\n",
            "        y: Target data. Like the input data `x`,\n",
            "            it could be either Numpy array(s), framework-native tensor(s),\n",
            "            list of Numpy arrays (if the model has multiple outputs) or\n",
            "            None (default) if feeding from framework-native tensors\n",
            "            (e.g. TensorFlow data tensors).\n",
            "            If output layers in the model are named, you can also pass a\n",
            "            dictionary mapping output names to Numpy arrays.\n",
            "            If `x` is a generator, or `keras.utils.Sequence` instance,\n",
            "            `y` should not be specified (since targets will be obtained\n",
            "            from `x`).\n",
            "        batch_size: Integer or `None`.\n",
            "            Number of samples per gradient update.\n",
            "            If unspecified, `batch_size` will default to 32.\n",
            "            Do not specify the `batch_size` if your data is in the\n",
            "            form of symbolic tensors, generators, or `Sequence` instances\n",
            "            (since they generate batches).\n",
            "        epochs: Integer. Number of epochs to train the model.\n",
            "            An epoch is an iteration over the entire `x` and `y`\n",
            "            data provided.\n",
            "            Note that in conjunction with `initial_epoch`,\n",
            "            `epochs` is to be understood as \"final epoch\".\n",
            "            The model is not trained for a number of iterations\n",
            "            given by `epochs`, but merely until the epoch\n",
            "            of index `epochs` is reached.\n",
            "        verbose: Integer. 0, 1, or 2. Verbosity mode.\n",
            "            0 = silent, 1 = progress bar, 2 = one line per epoch.\n",
            "        callbacks: List of `keras.callbacks.Callback` instances.\n",
            "            List of callbacks to apply during training and validation\n",
            "            (if ).\n",
            "            See [callbacks](/callbacks).\n",
            "        validation_split: Float between 0 and 1.\n",
            "            Fraction of the training data to be used as validation data.\n",
            "            The model will set apart this fraction of the training data,\n",
            "            will not train on it, and will evaluate\n",
            "            the loss and any model metrics\n",
            "            on this data at the end of each epoch.\n",
            "            The validation data is selected from the last samples\n",
            "            in the `x` and `y` data provided, before shuffling.\n",
            "            This argument is not supported when `x` is a generator or\n",
            "            `Sequence` instance.\n",
            "        validation_data: Data on which to evaluate\n",
            "            the loss and any model metrics at the end of each epoch.\n",
            "            The model will not be trained on this data.\n",
            "            `validation_data` will override `validation_split`.\n",
            "            `validation_data` could be:\n",
            "                - tuple `(x_val, y_val)` of Numpy arrays or tensors\n",
            "                - tuple `(x_val, y_val, val_sample_weights)` of Numpy arrays\n",
            "                - dataset or a dataset iterator\n",
            "            For the first two cases, `batch_size` must be provided.\n",
            "            For the last case, `validation_steps` must be provided.\n",
            "        shuffle: Boolean (whether to shuffle the training data\n",
            "            before each epoch) or str (for 'batch').\n",
            "            'batch' is a special option for dealing with the\n",
            "            limitations of HDF5 data; it shuffles in batch-sized chunks.\n",
            "            Has no effect when `steps_per_epoch` is not `None`.\n",
            "        class_weight: Optional dictionary mapping class indices (integers)\n",
            "            to a weight (float) value, used for weighting the loss function\n",
            "            (during training only).\n",
            "            This can be useful to tell the model to\n",
            "            \"pay more attention\" to samples from\n",
            "            an under-represented class.\n",
            "        sample_weight: Optional Numpy array of weights for\n",
            "            the training samples, used for weighting the loss function\n",
            "            (during training only). You can either pass a flat (1D)\n",
            "            Numpy array with the same length as the input samples\n",
            "            (1:1 mapping between weights and samples),\n",
            "            or in the case of temporal data,\n",
            "            you can pass a 2D array with shape\n",
            "            `(samples, sequence_length)`,\n",
            "            to apply a different weight to every timestep of every sample.\n",
            "            In this case you should make sure to specify\n",
            "            `sample_weight_mode=\"temporal\"` in `compile()`. This argument\n",
            "            is not supported when `x` generator, or `Sequence` instance,\n",
            "            instead provide the sample_weights as the third element of `x`.\n",
            "        initial_epoch: Integer.\n",
            "            Epoch at which to start training\n",
            "            (useful for resuming a previous training run).\n",
            "        steps_per_epoch: Integer or `None`.\n",
            "            Total number of steps (batches of samples)\n",
            "            before declaring one epoch finished and starting the\n",
            "            next epoch. When training with input tensors such as\n",
            "            TensorFlow data tensors, the default `None` is equal to\n",
            "            the number of samples in your dataset divided by\n",
            "            the batch size, or 1 if that cannot be determined.\n",
            "        validation_steps: Only relevant if `steps_per_epoch`\n",
            "            is specified. Total number of steps (batches of samples)\n",
            "            to validate before stopping.\n",
            "        validation_steps: Only relevant if `validation_data` is provided\n",
            "            and is a generator. Total number of steps (batches of samples)\n",
            "            to draw before stopping when performing validation at the end\n",
            "            of every epoch.\n",
            "        validation_freq: Only relevant if validation data is provided. Integer\n",
            "            or list/tuple/set. If an integer, specifies how many training\n",
            "            epochs to run before a new validation run is performed, e.g.\n",
            "            `validation_freq=2` runs validation every 2 epochs. If a list,\n",
            "            tuple, or set, specifies the epochs on which to run validation,\n",
            "            e.g. `validation_freq=[1, 2, 10]` runs validation at the end\n",
            "            of the 1st, 2nd, and 10th epochs.\n",
            "        max_queue_size: Integer. Used for generator or `keras.utils.Sequence`\n",
            "            input only. Maximum size for the generator queue.\n",
            "            If unspecified, `max_queue_size` will default to 10.\n",
            "        workers: Integer. Used for generator or `keras.utils.Sequence` input\n",
            "            only. Maximum number of processes to spin up\n",
            "            when using process-based threading. If unspecified, `workers`\n",
            "            will default to 1. If 0, will execute the generator on the main\n",
            "            thread.\n",
            "        use_multiprocessing: Boolean. Used for generator or\n",
            "            `keras.utils.Sequence` input only. If `True`, use process-based\n",
            "            threading. If unspecified, `use_multiprocessing` will default to\n",
            "            `False`. Note that because this implementation relies on\n",
            "            multiprocessing, you should not pass non-picklable arguments to\n",
            "            the generator as they can't be passed easily to children processes.\n",
            "        **kwargs: Used for backwards compatibility.\n",
            "    \n",
            "    # Returns\n",
            "        A `History` object. Its `History.history` attribute is\n",
            "        a record of training loss values and metrics values\n",
            "        at successive epochs, as well as validation loss values\n",
            "        and validation metrics values (if applicable).\n",
            "    \n",
            "    # Raises\n",
            "        RuntimeError: If the model was never compiled.\n",
            "        ValueError: In case of mismatch between the provided input data\n",
            "            and what the model expects.\n",
            "\n"
          ],
          "name": "stdout"
        }
      ]
    }
  ]
}