{
  "nbformat": 4,
  "nbformat_minor": 0,
  "metadata": {
    "colab": {
      "name": "ch9 실습.ipynb",
      "provenance": [],
      "authorship_tag": "ABX9TyNQ8a3rEol+JfxtBBk0n4Ff",
      "include_colab_link": true
    },
    "kernelspec": {
      "name": "python3",
      "display_name": "Python 3"
    }
  },
  "cells": [
    {
      "cell_type": "markdown",
      "metadata": {
        "id": "view-in-github",
        "colab_type": "text"
      },
      "source": [
        "<a href=\"https://colab.research.google.com/github/OkiHeo/python_machine_learning/blob/master/ch9_%EC%8B%A4%EC%8A%B5.ipynb\" target=\"_parent\"><img src=\"https://colab.research.google.com/assets/colab-badge.svg\" alt=\"Open In Colab\"/></a>"
      ]
    },
    {
      "cell_type": "markdown",
      "metadata": {
        "id": "geN_UsTroGuX",
        "colab_type": "text"
      },
      "source": [
        "# MNIST의 딥러닝"
      ]
    },
    {
      "cell_type": "code",
      "metadata": {
        "id": "21rEYCk1oC0s",
        "colab_type": "code",
        "colab": {
          "base_uri": "https://localhost:8080/",
          "height": 94
        },
        "outputId": "cbab08d2-3da8-418c-ccb6-223376057045"
      },
      "source": [
        "import tensorflow.compat.v1 as tf\n",
        "tf.disable_v2_behavior()\n",
        "\n",
        "#------------------------------------------------------------------\n",
        "\n",
        "from keras.datasets import mnist\n",
        "(x_train, y_train), (x_test, y_test) = mnist.load_data()"
      ],
      "execution_count": 3,
      "outputs": [
        {
          "output_type": "stream",
          "text": [
            "WARNING:tensorflow:From /usr/local/lib/python3.6/dist-packages/tensorflow_core/python/compat/v2_compat.py:68: disable_resource_variables (from tensorflow.python.ops.variable_scope) is deprecated and will be removed in a future version.\n",
            "Instructions for updating:\n",
            "non-resource variables are not supported in the long term\n"
          ],
          "name": "stdout"
        }
      ]
    },
    {
      "cell_type": "code",
      "metadata": {
        "id": "3O1CnRBQoxxf",
        "colab_type": "code",
        "colab": {
          "base_uri": "https://localhost:8080/",
          "height": 226
        },
        "outputId": "83935c71-b8ae-4336-d61e-ee729b63dffe"
      },
      "source": [
        "import numpy as np\n",
        "import matplotlib.pyplot as plt\n",
        "%matplotlib inline\n",
        "\n",
        "plt.figure(1, figsize=(12, 3.2))\n",
        "plt.subplots_adjust(wspace=0.5)\n",
        "plt.gray()\n",
        "\n",
        "for id in range(3):\n",
        "  plt.subplot(1, 3, id+1)\n",
        "  img = x_train[id, :, :]     # id번째 이미지 (28x28)를 img에 저장\n",
        "  plt.pcolor(255-img)\n",
        "  plt.text(24.5, 26, \"%d\" %y_train[id], color='blue', fontsize=18)\n",
        "  plt.xlim(0, 27)\n",
        "  plt.ylim(27, 0)\n",
        "  plt.grid('on', color='white')\n",
        "plt.show()"
      ],
      "execution_count": 5,
      "outputs": [
        {
          "output_type": "display_data",
          "data": {
            "image/png": "[encoded data removed]",
            "text/plain": [
              "<Figure size 864x230.4 with 3 Axes>"
            ]
          },
          "metadata": {
            "tags": []
          }
        }
      ]
    },
    {
      "cell_type": "markdown",
      "metadata": {
        "id": "WG5tlCvqpjK_",
        "colab_type": "text"
      },
      "source": [
        "y_train[id] 에는 x_train[id, :, :]에 해당하는 숫자가 저장되어있다."
      ]
    },
    {
      "cell_type": "markdown",
      "metadata": {
        "id": "iXQOPNgxpvyX",
        "colab_type": "text"
      },
      "source": [
        "## 2층 피드 포워드 네트워크 모델"
      ]
    },
    {
      "cell_type": "code",
      "metadata": {
        "id": "dEPzcYd6ptlZ",
        "colab_type": "code",
        "colab": {}
      },
      "source": [
        "from keras.utils import np_utils\n",
        "\n",
        "\n",
        "x_train = x_train.reshape(60000, 784)     # 60000x(28x28) -> 60000x784로 변환. 3차원배열을 2차원배열로 reshape\n",
        "x_train = x_train.astype('float32')       # 저장된 값의 자료형을 float32형으로 변환\n",
        "x_train = x_train/255                     # 0~1사이의 실수 값으로 변환한다.\n",
        "\n",
        "num_classes = 10                          # 0~9를 표시하는 이미지라는 클래스가 존재한다.\n",
        "\n",
        "y_train = np_utils.to_categorical(y_train, num_classes)     # y_train의 요소를 1-of-K 부호화법으로 변경한다."
      ],
      "execution_count": 0,
      "outputs": []
    }
  ]
}