{
  "nbformat": 4,
  "nbformat_minor": 0,
  "metadata": {
    "colab": {
      "name": "ch5 지도 학습:회귀.ipynb",
      "provenance": [],
      "collapsed_sections": [],
      "authorship_tag": "ABX9TyOmEfvUHQvOtKZ9OhP+I2fr",
      "include_colab_link": true
    },
    "kernelspec": {
      "name": "python3",
      "display_name": "Python 3"
    }
  },
  "cells": [
    {
      "cell_type": "markdown",
      "metadata": {
        "id": "view-in-github",
        "colab_type": "text"
      },
      "source": [
        "<a href=\"https://colab.research.google.com/github/OkiHeo/python_machine_learning/blob/master/ch5_%EC%A7%80%EB%8F%84_%ED%95%99%EC%8A%B5_%ED%9A%8C%EA%B7%80.ipynb\" target=\"_parent\"><img src=\"https://colab.research.google.com/assets/colab-badge.svg\" alt=\"Open In Colab\"/></a>"
      ]
    },
    {
      "cell_type": "markdown",
      "metadata": {
        "id": "rVwMwQH0wpOT",
        "colab_type": "text"
      },
      "source": [
        "## 5.1 1차원 입력 직선 모델"
      ]
    },
    {
      "cell_type": "code",
      "metadata": {
        "id": "VtXHCiCVwu6z",
        "colab_type": "code",
        "outputId": "a93a2ef3-c1c9-4906-93aa-c5792905d6aa",
        "colab": {
          "base_uri": "https://localhost:8080/",
          "height": 93
        }
      },
      "source": [
        "import numpy as np\n",
        "import matplotlib.pyplot as plt\n",
        "%matplotlib inline\n",
        "\n",
        "# 데이터 생성\n",
        "np.random.seed(seed=1)    # 난수를 고정하기 위해\n",
        "X_min = 4   # X의 하한\n",
        "X_max = 30  # X의 상한\n",
        "X_n = 16    # X의 상한\n",
        "# 16개의 랜덤 나이 생성\n",
        "X = 5 + 25*np.random.rand(X_n)\n",
        "Prm_c = [170, 108, 0.2] # 생성 매개 변수\n",
        "T = Prm_c[0]-Prm_c[1]*np.exp(-Prm_c[2]*X)+4*np.random.randn(X_n)\n",
        "# 생성한 데이터를 파일로 저장한다.\n",
        "np.savez('ch5_data.npz', X=X, X_min=X_min, X_max=X_max, X_n=X_n, T=T)\n",
        "\n",
        "print(np.round(X,2))\n",
        "print(np.round(T,2))"
      ],
      "execution_count": 0,
      "outputs": [
        {
          "output_type": "stream",
          "text": [
            "[15.43 23.01  5.   12.56  8.67  7.31  9.66 13.64 14.92 18.47 15.48 22.13\n",
            " 10.11 26.95  5.68 21.76]\n",
            "[170.91 160.68 129.   159.7  155.46 140.56 153.65 159.43 164.7  169.65\n",
            " 160.71 173.29 159.31 171.52 138.96 165.87]\n"
          ],
          "name": "stdout"
        }
      ]
    },
    {
      "cell_type": "code",
      "metadata": {
        "id": "__zXStPKxrrd",
        "colab_type": "code",
        "outputId": "50245262-f40c-4cde-a486-ebb947610da9",
        "colab": {
          "base_uri": "https://localhost:8080/",
          "height": 265
        }
      },
      "source": [
        "# 데이터 그래프\n",
        "plt.figure(figsize=(4, 4))\n",
        "plt.plot(X, T, marker='o', linestyle='None', markeredgecolor='black', color='cornflowerblue')\n",
        "plt.xlim(X_min, X_max)\n",
        "plt.grid(True)\n",
        "plt.show()"
      ],
      "execution_count": 0,
      "outputs": [
        {
          "output_type": "display_data",
          "data": {
            "image/png": "[encoded data removed]",
            "text/plain": [
              "<Figure size 288x288 with 1 Axes>"
            ]
          },
          "metadata": {
            "tags": []
          }
        }
      ]
    }
  ]
}