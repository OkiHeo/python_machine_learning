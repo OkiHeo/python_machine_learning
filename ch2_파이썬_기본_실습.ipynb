{
  "nbformat": 4,
  "nbformat_minor": 0,
  "metadata": {
    "colab": {
      "name": "ch2 파이썬 기본 실습.ipynb",
      "provenance": [],
      "collapsed_sections": [],
      "authorship_tag": "ABX9TyOxI2n+Djf0+2k/GmV94HpA",
      "include_colab_link": true
    },
    "kernelspec": {
      "name": "python3",
      "display_name": "Python 3"
    }
  },
  "cells": [
    {
      "cell_type": "markdown",
      "metadata": {
        "id": "view-in-github",
        "colab_type": "text"
      },
      "source": [
        "<a href=\"https://colab.research.google.com/github/OkiHeo/python_machine_learning/blob/master/ch2_%ED%8C%8C%EC%9D%B4%EC%8D%AC_%EA%B8%B0%EB%B3%B8_%EC%8B%A4%EC%8A%B5.ipynb\" target=\"_parent\"><img src=\"https://colab.research.google.com/assets/colab-badge.svg\" alt=\"Open In Colab\"/></a>"
      ]
    },
    {
      "cell_type": "markdown",
      "metadata": {
        "id": "nBNAoRonG3X2",
        "colab_type": "text"
      },
      "source": [
        "사칙연산"
      ]
    },
    {
      "cell_type": "code",
      "metadata": {
        "id": "56vewFZ9G6O1",
        "colab_type": "code",
        "colab": {
          "base_uri": "https://localhost:8080/",
          "height": 36
        },
        "outputId": "4582c6a1-caab-4ac9-bf3d-d9d35af5a8e7"
      },
      "source": [
        "(1+2*3-4)/5"
      ],
      "execution_count": 1,
      "outputs": [
        {
          "output_type": "execute_result",
          "data": {
            "text/plain": [
              "0.6"
            ]
          },
          "metadata": {
            "tags": []
          },
          "execution_count": 1
        }
      ]
    },
    {
      "cell_type": "code",
      "metadata": {
        "id": "E9O44OU-HBob",
        "colab_type": "code",
        "colab": {
          "base_uri": "https://localhost:8080/",
          "height": 36
        },
        "outputId": "b50dd01f-0e12-49db-833f-65181949ac8a"
      },
      "source": [
        "2**8"
      ],
      "execution_count": 2,
      "outputs": [
        {
          "output_type": "execute_result",
          "data": {
            "text/plain": [
              "256"
            ]
          },
          "metadata": {
            "tags": []
          },
          "execution_count": 2
        }
      ]
    },
    {
      "cell_type": "code",
      "metadata": {
        "id": "0IfvvpaMHFcZ",
        "colab_type": "code",
        "colab": {
          "base_uri": "https://localhost:8080/",
          "height": 36
        },
        "outputId": "325c5393-7505-4904-81b3-f5d627e6e912"
      },
      "source": [
        "x=1\n",
        "y=1/3\n",
        "x+y"
      ],
      "execution_count": 3,
      "outputs": [
        {
          "output_type": "execute_result",
          "data": {
            "text/plain": [
              "1.3333333333333333"
            ]
          },
          "metadata": {
            "tags": []
          },
          "execution_count": 3
        }
      ]
    },
    {
      "cell_type": "code",
      "metadata": {
        "id": "3LbGC_KKHJJz",
        "colab_type": "code",
        "colab": {
          "base_uri": "https://localhost:8080/",
          "height": 36
        },
        "outputId": "2feae1ec-138a-4d2b-a1ed-2b761e8621b1"
      },
      "source": [
        "print(type(x),type(y))"
      ],
      "execution_count": 7,
      "outputs": [
        {
          "output_type": "stream",
          "text": [
            "<class 'int'> <class 'float'>\n"
          ],
          "name": "stdout"
        }
      ]
    },
    {
      "cell_type": "code",
      "metadata": {
        "id": "13n5OUMNHWAP",
        "colab_type": "code",
        "colab": {
          "base_uri": "https://localhost:8080/",
          "height": 36
        },
        "outputId": "003ba46e-bd5c-4df1-852a-398bde23015c"
      },
      "source": [
        "x = 1/3\n",
        "x\n",
        "y = 2/3\n",
        "y\n"
      ],
      "execution_count": 8,
      "outputs": [
        {
          "output_type": "execute_result",
          "data": {
            "text/plain": [
              "0.6666666666666666"
            ]
          },
          "metadata": {
            "tags": []
          },
          "execution_count": 8
        }
      ]
    },
    {
      "cell_type": "markdown",
      "metadata": {
        "id": "wQg2xkL9HaXQ",
        "colab_type": "text"
      },
      "source": [
        "문자열과 수치를 함께 표시"
      ]
    },
    {
      "cell_type": "code",
      "metadata": {
        "id": "nHbA_y1PHewH",
        "colab_type": "code",
        "colab": {
          "base_uri": "https://localhost:8080/",
          "height": 36
        },
        "outputId": "56833250-0b07-4c65-856f-9d2fdb7efc9f"
      },
      "source": [
        "print('x='+str(x))"
      ],
      "execution_count": 9,
      "outputs": [
        {
          "output_type": "stream",
          "text": [
            "x=0.3333333333333333\n"
          ],
          "name": "stdout"
        }
      ]
    },
    {
      "cell_type": "code",
      "metadata": {
        "id": "2XAQCwEgH2De",
        "colab_type": "code",
        "colab": {
          "base_uri": "https://localhost:8080/",
          "height": 36
        },
        "outputId": "e076e541-8a74-4ce1-9616-7065b00d84bc"
      },
      "source": [
        "x=1/3\n",
        "y=1/7\n",
        "z=1/4\n",
        "print('weight: {0} kg {1}kg {2}kg'.format(x, y, z))"
      ],
      "execution_count": 10,
      "outputs": [
        {
          "output_type": "stream",
          "text": [
            "weight: 0.3333333333333333 kg 0.14285714285714285kg 0.25kg\n"
          ],
          "name": "stdout"
        }
      ]
    },
    {
      "cell_type": "code",
      "metadata": {
        "id": "3BXjefLuIRSB",
        "colab_type": "code",
        "colab": {
          "base_uri": "https://localhost:8080/",
          "height": 36
        },
        "outputId": "11c22a23-8025-4819-8220-7dfd1e03261c"
      },
      "source": [
        "print('weight: {0:.3f}kg {1:.3f}kg {2:.3f}kg'.format(x, y, z))"
      ],
      "execution_count": 12,
      "outputs": [
        {
          "output_type": "stream",
          "text": [
            "weight: 0.333kg 0.143kg 0.250kg\n"
          ],
          "name": "stdout"
        }
      ]
    },
    {
      "cell_type": "markdown",
      "metadata": {
        "id": "arnz3veIJFoH",
        "colab_type": "text"
      },
      "source": [
        "# list"
      ]
    },
    {
      "cell_type": "code",
      "metadata": {
        "id": "l9CbAMUbJAmt",
        "colab_type": "code",
        "colab": {
          "base_uri": "https://localhost:8080/",
          "height": 36
        },
        "outputId": "50eaea4e-b554-444d-8e1e-e2a1c215734b"
      },
      "source": [
        "x=[1, 1, 2, 4, 5]\n",
        "print(x)"
      ],
      "execution_count": 13,
      "outputs": [
        {
          "output_type": "stream",
          "text": [
            "[1, 1, 2, 4, 5]\n"
          ],
          "name": "stdout"
        }
      ]
    },
    {
      "cell_type": "code",
      "metadata": {
        "id": "LQ7w23XgJrqY",
        "colab_type": "code",
        "colab": {
          "base_uri": "https://localhost:8080/",
          "height": 74
        },
        "outputId": "1541bd50-c6cf-4de6-fd71-bbe477eb0c42"
      },
      "source": [
        "s=['SUN', 1, 'MON', 2]\n",
        "print(type(s[0]))\n",
        "print(type(s[1]))\n",
        "print(s)"
      ],
      "execution_count": 14,
      "outputs": [
        {
          "output_type": "stream",
          "text": [
            "<class 'str'>\n",
            "<class 'int'>\n",
            "['SUN', 1, 'MON', 2]\n"
          ],
          "name": "stdout"
        }
      ]
    },
    {
      "cell_type": "code",
      "metadata": {
        "id": "moLeMpqUKZvG",
        "colab_type": "code",
        "colab": {
          "base_uri": "https://localhost:8080/",
          "height": 36
        },
        "outputId": "e59b8ffa-9427-401a-a3e6-0ff889ff1d3d"
      },
      "source": [
        "a = [[1, 2, 3], [5, 6, 7]]\n",
        "print(a)"
      ],
      "execution_count": 15,
      "outputs": [
        {
          "output_type": "stream",
          "text": [
            "[[1, 2, 3], [5, 6, 7]]\n"
          ],
          "name": "stdout"
        }
      ]
    },
    {
      "cell_type": "code",
      "metadata": {
        "id": "0Q3MnLwhK9rV",
        "colab_type": "code",
        "colab": {
          "base_uri": "https://localhost:8080/",
          "height": 36
        },
        "outputId": "1e875d72-44d5-4ee9-9289-09c2c2d7cb87"
      },
      "source": [
        "x=[1, 2, 3]\n",
        "print(len(x))"
      ],
      "execution_count": 16,
      "outputs": [
        {
          "output_type": "stream",
          "text": [
            "3\n"
          ],
          "name": "stdout"
        }
      ]
    },
    {
      "cell_type": "code",
      "metadata": {
        "id": "c_opl1GeLOrQ",
        "colab_type": "code",
        "colab": {
          "base_uri": "https://localhost:8080/",
          "height": 74
        },
        "outputId": "5156446f-3690-405c-8fed-3958c5ca3a6b"
      },
      "source": [
        "y=range(5, 10)\n",
        "print(type(y))\n",
        "print(list(y))\n",
        "print(type(list(y)))"
      ],
      "execution_count": 19,
      "outputs": [
        {
          "output_type": "stream",
          "text": [
            "<class 'range'>\n",
            "[5, 6, 7, 8, 9]\n",
            "<class 'list'>\n"
          ],
          "name": "stdout"
        }
      ]
    },
    {
      "cell_type": "code",
      "metadata": {
        "id": "DbL_rRTrMXZZ",
        "colab_type": "code",
        "colab": {
          "base_uri": "https://localhost:8080/",
          "height": 55
        },
        "outputId": "abc460e6-1d73-4bef-9672-47f5938b30ff"
      },
      "source": [
        "a=(1)\n",
        "print(type(a))\n",
        "b=(1,)\n",
        "print(type(b))"
      ],
      "execution_count": 20,
      "outputs": [
        {
          "output_type": "stream",
          "text": [
            "<class 'int'>\n",
            "<class 'tuple'>\n"
          ],
          "name": "stdout"
        }
      ]
    },
    {
      "cell_type": "markdown",
      "metadata": {
        "id": "jNGYM-vaMntC",
        "colab_type": "text"
      },
      "source": [
        "# if문"
      ]
    },
    {
      "cell_type": "code",
      "metadata": {
        "id": "tAkZXuInMrDi",
        "colab_type": "code",
        "colab": {
          "base_uri": "https://localhost:8080/",
          "height": 55
        },
        "outputId": "bb629231-4ea7-481a-c18c-e79b2ece0bfc"
      },
      "source": [
        "x=11\n",
        "if x>10:\n",
        "  print('x is ')\n",
        "  print('        larger than 10.')\n",
        "else:\n",
        "  print('x is smaller than 11')"
      ],
      "execution_count": 21,
      "outputs": [
        {
          "output_type": "stream",
          "text": [
            "x is \n",
            "        larger than 10.\n"
          ],
          "name": "stdout"
        }
      ]
    },
    {
      "cell_type": "markdown",
      "metadata": {
        "id": "oi4CWQPDN-da",
        "colab_type": "text"
      },
      "source": [
        "# for문"
      ]
    },
    {
      "cell_type": "code",
      "metadata": {
        "id": "fkr8KtWsN88d",
        "colab_type": "code",
        "colab": {
          "base_uri": "https://localhost:8080/",
          "height": 112
        },
        "outputId": "e8251465-c77f-4870-b60c-f21d3021b8c5"
      },
      "source": [
        "for i in [1, 2, 3]:\n",
        "  print(i)\n",
        "for i in range(3, 7, 2):\n",
        "  print(i)"
      ],
      "execution_count": 22,
      "outputs": [
        {
          "output_type": "stream",
          "text": [
            "1\n",
            "2\n",
            "3\n",
            "3\n",
            "5\n"
          ],
          "name": "stdout"
        }
      ]
    },
    {
      "cell_type": "code",
      "metadata": {
        "id": "qV6DLOYfPBix",
        "colab_type": "code",
        "colab": {
          "base_uri": "https://localhost:8080/",
          "height": 36
        },
        "outputId": "98a36cb7-3e7c-4971-f54b-1bae8e15089a"
      },
      "source": [
        "num = [2, 4, 6, 8, 10]\n",
        "for i in range(len(num)):\n",
        "  num[i] = num[i]*3\n",
        "print(num)"
      ],
      "execution_count": 24,
      "outputs": [
        {
          "output_type": "stream",
          "text": [
            "[6, 12, 18, 24, 30]\n"
          ],
          "name": "stdout"
        }
      ]
    },
    {
      "cell_type": "code",
      "metadata": {
        "id": "LhpHLVp4PV0-",
        "colab_type": "code",
        "colab": {
          "base_uri": "https://localhost:8080/",
          "height": 36
        },
        "outputId": "32c35e9d-c917-4eb3-f47c-3be7da5c5f99"
      },
      "source": [
        "num=[2, 4, 6, 8, 10]\n",
        "for i, n in enumerate(num):\n",
        "  num[i] = n*2\n",
        "print(num)"
      ],
      "execution_count": 25,
      "outputs": [
        {
          "output_type": "stream",
          "text": [
            "[4, 8, 12, 16, 20]\n"
          ],
          "name": "stdout"
        }
      ]
    },
    {
      "cell_type": "markdown",
      "metadata": {
        "id": "tDiaE-xSQJV4",
        "colab_type": "text"
      },
      "source": [
        "# 벡터"
      ]
    },
    {
      "cell_type": "code",
      "metadata": {
        "id": "DmNrTZQkQK6P",
        "colab_type": "code",
        "colab": {
          "base_uri": "https://localhost:8080/",
          "height": 36
        },
        "outputId": "60143c8d-5385-4e62-e5f2-7692f6a94e7c"
      },
      "source": [
        "import numpy as np\n",
        "x = np.array([1, 2, 3])\n",
        "x"
      ],
      "execution_count": 27,
      "outputs": [
        {
          "output_type": "execute_result",
          "data": {
            "text/plain": [
              "array([1, 2, 3])"
            ]
          },
          "metadata": {
            "tags": []
          },
          "execution_count": 27
        }
      ]
    },
    {
      "cell_type": "code",
      "metadata": {
        "id": "kylbtfrTQgSd",
        "colab_type": "code",
        "colab": {
          "base_uri": "https://localhost:8080/",
          "height": 36
        },
        "outputId": "cbb45db2-bfad-4a7b-b873-eee073209286"
      },
      "source": [
        "print(x)"
      ],
      "execution_count": 28,
      "outputs": [
        {
          "output_type": "stream",
          "text": [
            "[1 2 3]\n"
          ],
          "name": "stdout"
        }
      ]
    },
    {
      "cell_type": "code",
      "metadata": {
        "id": "bdrk-S2HQxQO",
        "colab_type": "code",
        "colab": {
          "base_uri": "https://localhost:8080/",
          "height": 36
        },
        "outputId": "982314b7-d31f-4618-9ddb-cbab3c8f3f13"
      },
      "source": [
        "x = np.array([1, 2, 3])\n",
        "y = np.array([4, 5, 6])\n",
        "print(x+y)"
      ],
      "execution_count": 29,
      "outputs": [
        {
          "output_type": "stream",
          "text": [
            "[5 7 9]\n"
          ],
          "name": "stdout"
        }
      ]
    },
    {
      "cell_type": "code",
      "metadata": {
        "id": "pABOl-LfQ3qP",
        "colab_type": "code",
        "colab": {
          "base_uri": "https://localhost:8080/",
          "height": 36
        },
        "outputId": "36554f09-3f03-4aa0-ce20-afa47e156e3c"
      },
      "source": [
        "type(x)"
      ],
      "execution_count": 30,
      "outputs": [
        {
          "output_type": "execute_result",
          "data": {
            "text/plain": [
              "numpy.ndarray"
            ]
          },
          "metadata": {
            "tags": []
          },
          "execution_count": 30
        }
      ]
    },
    {
      "cell_type": "code",
      "metadata": {
        "id": "TQ-E-aPsRF70",
        "colab_type": "code",
        "colab": {
          "base_uri": "https://localhost:8080/",
          "height": 36
        },
        "outputId": "7e1730a1-37c4-47de-ce8c-418db930324f"
      },
      "source": [
        "x[0] = 8\n",
        "print(x)"
      ],
      "execution_count": 31,
      "outputs": [
        {
          "output_type": "stream",
          "text": [
            "[8 2 3]\n"
          ],
          "name": "stdout"
        }
      ]
    },
    {
      "cell_type": "code",
      "metadata": {
        "id": "bYpm4BUdRYjt",
        "colab_type": "code",
        "colab": {
          "base_uri": "https://localhost:8080/",
          "height": 36
        },
        "outputId": "0bcd4049-e988-4eaa-dee2-c584bb33a411"
      },
      "source": [
        "print(np.arange(10))"
      ],
      "execution_count": 32,
      "outputs": [
        {
          "output_type": "stream",
          "text": [
            "[0 1 2 3 4 5 6 7 8 9]\n"
          ],
          "name": "stdout"
        }
      ]
    },
    {
      "cell_type": "code",
      "metadata": {
        "id": "BrxuN5C2RtV-",
        "colab_type": "code",
        "colab": {
          "base_uri": "https://localhost:8080/",
          "height": 36
        },
        "outputId": "11106218-991f-4b84-c6e0-75df571f1d2e"
      },
      "source": [
        "print(np.arange(4, 10))"
      ],
      "execution_count": 33,
      "outputs": [
        {
          "output_type": "stream",
          "text": [
            "[4 5 6 7 8 9]\n"
          ],
          "name": "stdout"
        }
      ]
    },
    {
      "cell_type": "code",
      "metadata": {
        "id": "8h8XPlz3R8FX",
        "colab_type": "code",
        "colab": {
          "base_uri": "https://localhost:8080/",
          "height": 36
        },
        "outputId": "6fa08afe-3267-4b1f-a8a2-ff1c9d887638"
      },
      "source": [
        "a = np.arange(10)\n",
        "b = np.arange(5, 15)\n",
        "print(a+b)"
      ],
      "execution_count": 37,
      "outputs": [
        {
          "output_type": "stream",
          "text": [
            "[ 5  7  9 11 13 15 17 19 21 23]\n"
          ],
          "name": "stdout"
        }
      ]
    },
    {
      "cell_type": "markdown",
      "metadata": {
        "id": "lIeIniJATNXm",
        "colab_type": "text"
      },
      "source": [
        "# 행렬"
      ]
    },
    {
      "cell_type": "code",
      "metadata": {
        "id": "pNN6JRHJTK7_",
        "colab_type": "code",
        "colab": {
          "base_uri": "https://localhost:8080/",
          "height": 55
        },
        "outputId": "ef6f6137-8ffb-46d5-ed07-a1491791482a"
      },
      "source": [
        "x = np.array([[1, 2, 3], [4, 5, 6]])\n",
        "print(x)\n"
      ],
      "execution_count": 40,
      "outputs": [
        {
          "output_type": "stream",
          "text": [
            "[[1 2 3]\n",
            " [4 5 6]]\n"
          ],
          "name": "stdout"
        }
      ]
    },
    {
      "cell_type": "code",
      "metadata": {
        "id": "vx6vO6vKT3tW",
        "colab_type": "code",
        "colab": {
          "base_uri": "https://localhost:8080/",
          "height": 36
        },
        "outputId": "c42d16d9-df64-4940-c53f-74bcc6307313"
      },
      "source": [
        "print(type(x.shape))"
      ],
      "execution_count": 41,
      "outputs": [
        {
          "output_type": "stream",
          "text": [
            "<class 'tuple'>\n"
          ],
          "name": "stdout"
        }
      ]
    },
    {
      "cell_type": "code",
      "metadata": {
        "id": "Yt2cvGIOTQqx",
        "colab_type": "code",
        "colab": {
          "base_uri": "https://localhost:8080/",
          "height": 36
        },
        "outputId": "f0fac213-8cc6-4a0a-ee3e-6e7f337cc584"
      },
      "source": [
        "print(x.shape)"
      ],
      "execution_count": 39,
      "outputs": [
        {
          "output_type": "stream",
          "text": [
            "(2, 3)\n"
          ],
          "name": "stdout"
        }
      ]
    },
    {
      "cell_type": "code",
      "metadata": {
        "id": "20oosYlIT7V4",
        "colab_type": "code",
        "colab": {
          "base_uri": "https://localhost:8080/",
          "height": 55
        },
        "outputId": "cf81c913-a03f-4ee2-d3f4-94848f54c440"
      },
      "source": [
        "x = np.array([[1, 2, 3], [4, 5, 6]])\n",
        "x[1, 2] = 9\n",
        "print(x)"
      ],
      "execution_count": 43,
      "outputs": [
        {
          "output_type": "stream",
          "text": [
            "[[1 2 3]\n",
            " [4 5 9]]\n"
          ],
          "name": "stdout"
        }
      ]
    },
    {
      "cell_type": "code",
      "metadata": {
        "id": "6YNrEaKxUXeU",
        "colab_type": "code",
        "colab": {
          "base_uri": "https://localhost:8080/",
          "height": 36
        },
        "outputId": "59427f7e-76b7-48eb-b308-b06f9ecea7b3"
      },
      "source": [
        "print(np.zeros(10))"
      ],
      "execution_count": 45,
      "outputs": [
        {
          "output_type": "stream",
          "text": [
            "[0. 0. 0. 0. 0. 0. 0. 0. 0. 0.]\n"
          ],
          "name": "stdout"
        }
      ]
    },
    {
      "cell_type": "code",
      "metadata": {
        "id": "CG7DQu24Ui0q",
        "colab_type": "code",
        "colab": {
          "base_uri": "https://localhost:8080/",
          "height": 55
        },
        "outputId": "32a891bd-b853-4734-eec9-9cc64eb0ae1c"
      },
      "source": [
        "print(np.zeros((2, 10)))"
      ],
      "execution_count": 46,
      "outputs": [
        {
          "output_type": "stream",
          "text": [
            "[[0. 0. 0. 0. 0. 0. 0. 0. 0. 0.]\n",
            " [0. 0. 0. 0. 0. 0. 0. 0. 0. 0.]]\n"
          ],
          "name": "stdout"
        }
      ]
    },
    {
      "cell_type": "code",
      "metadata": {
        "id": "pjGcUB0wU8P5",
        "colab_type": "code",
        "colab": {
          "base_uri": "https://localhost:8080/",
          "height": 93
        },
        "outputId": "3ca89383-4ea1-40f6-9843-6db1f17c51e3"
      },
      "source": [
        "np.random.rand(20)"
      ],
      "execution_count": 47,
      "outputs": [
        {
          "output_type": "execute_result",
          "data": {
            "text/plain": [
              "array([0.63444793, 0.59376726, 0.68156781, 0.52048412, 0.94561051,\n",
              "       0.82415997, 0.16225999, 0.19084766, 0.02568032, 0.19530375,\n",
              "       0.0580724 , 0.02686245, 0.017644  , 0.56497843, 0.52536116,\n",
              "       0.42502817, 0.69618506, 0.10699665, 0.33042691, 0.80630982])"
            ]
          },
          "metadata": {
            "tags": []
          },
          "execution_count": 47
        }
      ]
    },
    {
      "cell_type": "code",
      "metadata": {
        "id": "8d6yQesNVqTs",
        "colab_type": "code",
        "colab": {
          "base_uri": "https://localhost:8080/",
          "height": 55
        },
        "outputId": "7d942f74-d90b-4828-9902-5b0e2d81c1e5"
      },
      "source": [
        "np.random.rand(2, 3)"
      ],
      "execution_count": 49,
      "outputs": [
        {
          "output_type": "execute_result",
          "data": {
            "text/plain": [
              "array([[0.74380303, 0.29029885, 0.35658039],\n",
              "       [0.25869059, 0.53869806, 0.83441483]])"
            ]
          },
          "metadata": {
            "tags": []
          },
          "execution_count": 49
        }
      ]
    },
    {
      "cell_type": "code",
      "metadata": {
        "id": "DeseWl2uVX2G",
        "colab_type": "code",
        "colab": {
          "base_uri": "https://localhost:8080/",
          "height": 36
        },
        "outputId": "b6a728f8-6792-4b34-971a-af7caef18cf2"
      },
      "source": [
        "np.random.randint(1, 10, 5)"
      ],
      "execution_count": 48,
      "outputs": [
        {
          "output_type": "execute_result",
          "data": {
            "text/plain": [
              "array([1, 7, 8, 5, 2])"
            ]
          },
          "metadata": {
            "tags": []
          },
          "execution_count": 48
        }
      ]
    },
    {
      "cell_type": "code",
      "metadata": {
        "id": "8VhBtKohWRNk",
        "colab_type": "code",
        "colab": {
          "base_uri": "https://localhost:8080/",
          "height": 55
        },
        "outputId": "afea0722-da70-4676-9f29-fc799564db5b"
      },
      "source": [
        "a = np.arange(10)\n",
        "a = a.reshape(2, 5).copy()\n",
        "print(a)"
      ],
      "execution_count": 52,
      "outputs": [
        {
          "output_type": "stream",
          "text": [
            "[[0 1 2 3 4]\n",
            " [5 6 7 8 9]]\n"
          ],
          "name": "stdout"
        }
      ]
    },
    {
      "cell_type": "markdown",
      "metadata": {
        "id": "54kPlfroWpuz",
        "colab_type": "text"
      },
      "source": [
        "# 행렬의 사칙연산"
      ]
    },
    {
      "cell_type": "code",
      "metadata": {
        "id": "OfdGKuztWr15",
        "colab_type": "code",
        "colab": {
          "base_uri": "https://localhost:8080/",
          "height": 245
        },
        "outputId": "afc41a74-a20d-4d7c-cdf2-e97fdc07477b"
      },
      "source": [
        "x = np.array([[4, 4, 4], [8, 8, 8]])\n",
        "y = np.array([[1, 1, 1], [2, 2, 2]])\n",
        "print('x+y\\n', x+y)\n",
        "print('x-y\\n', x-y)\n",
        "print('x*y\\n', x*y)\n",
        "print('x/y\\n', x/y)"
      ],
      "execution_count": 56,
      "outputs": [
        {
          "output_type": "stream",
          "text": [
            "x+y\n",
            " [[ 5  5  5]\n",
            " [10 10 10]]\n",
            "x-y\n",
            " [[3 3 3]\n",
            " [6 6 6]]\n",
            "x*y\n",
            " [[ 4  4  4]\n",
            " [16 16 16]]\n",
            "x/y\n",
            " [[4. 4. 4.]\n",
            " [4. 4. 4.]]\n"
          ],
          "name": "stdout"
        }
      ]
    },
    {
      "cell_type": "code",
      "metadata": {
        "id": "PZ5wzqnPXgI5",
        "colab_type": "code",
        "colab": {
          "base_uri": "https://localhost:8080/",
          "height": 36
        },
        "outputId": "2a14b5dc-25b9-4204-f549-75284fab6c2b"
      },
      "source": [
        "x = np.arange(5)\n",
        "print(2*x)"
      ],
      "execution_count": 57,
      "outputs": [
        {
          "output_type": "stream",
          "text": [
            "[0 2 4 6 8]\n"
          ],
          "name": "stdout"
        }
      ]
    },
    {
      "cell_type": "code",
      "metadata": {
        "id": "u0rAboOWZvyV",
        "colab_type": "code",
        "colab": {
          "base_uri": "https://localhost:8080/",
          "height": 150
        },
        "outputId": "94d99077-160d-4afc-ba44-8a6edd260a87"
      },
      "source": [
        "v = np.array([[1, 2, 3], [4, 5, 6]])\n",
        "w = np.array([[1, 1], [2, 2], [3, 3]])\n",
        "print(v)\n",
        "print(w)\n",
        "print(v.dot(w))"
      ],
      "execution_count": 58,
      "outputs": [
        {
          "output_type": "stream",
          "text": [
            "[[1 2 3]\n",
            " [4 5 6]]\n",
            "[[1 1]\n",
            " [2 2]\n",
            " [3 3]]\n",
            "[[14 14]\n",
            " [32 32]]\n"
          ],
          "name": "stdout"
        }
      ]
    },
    {
      "cell_type": "markdown",
      "metadata": {
        "id": "_BncpMPDaxW7",
        "colab_type": "text"
      },
      "source": [
        "# 슬라이싱"
      ]
    },
    {
      "cell_type": "code",
      "metadata": {
        "id": "BomlocguazLo",
        "colab_type": "code",
        "colab": {
          "base_uri": "https://localhost:8080/",
          "height": 74
        },
        "outputId": "45b976c3-27d2-410c-b2c6-35054d9ab702"
      },
      "source": [
        "x = np.arange(10)\n",
        "print(x)\n",
        "print(x[:5])\n",
        "print(x[::2])"
      ],
      "execution_count": 59,
      "outputs": [
        {
          "output_type": "stream",
          "text": [
            "[0 1 2 3 4 5 6 7 8 9]\n",
            "[0 1 2 3 4]\n",
            "[0 2 4 6 8]\n"
          ],
          "name": "stdout"
        }
      ]
    },
    {
      "cell_type": "markdown",
      "metadata": {
        "id": "u4SBmWWNbYX2",
        "colab_type": "text"
      },
      "source": [
        "# 조건을 만족하는 데이터의 수정"
      ]
    },
    {
      "cell_type": "code",
      "metadata": {
        "id": "E6V76RvlbaXv",
        "colab_type": "code",
        "colab": {
          "base_uri": "https://localhost:8080/",
          "height": 36
        },
        "outputId": "5a54286f-e086-4693-b508-cc483e7e3a56"
      },
      "source": [
        "x = np.array([1, 1, 2, 3, 5, 8, 13])\n",
        "print(x>3)"
      ],
      "execution_count": 63,
      "outputs": [
        {
          "output_type": "stream",
          "text": [
            "[False False False False  True  True  True]\n"
          ],
          "name": "stdout"
        }
      ]
    },
    {
      "cell_type": "code",
      "metadata": {
        "id": "rKYLb4P2cQl3",
        "colab_type": "code",
        "colab": {
          "base_uri": "https://localhost:8080/",
          "height": 55
        },
        "outputId": "4543fbdf-6ee5-43b0-b9ba-4e54ddab1b75"
      },
      "source": [
        "print(x)\n",
        "x[x>3] *=10\n",
        "print(x)"
      ],
      "execution_count": 64,
      "outputs": [
        {
          "output_type": "stream",
          "text": [
            "[ 1  1  2  3  5  8 13]\n",
            "[  1   1   2   3  50  80 130]\n"
          ],
          "name": "stdout"
        }
      ]
    },
    {
      "cell_type": "markdown",
      "metadata": {
        "id": "IWjLoiIac3QQ",
        "colab_type": "text"
      },
      "source": [
        "# help"
      ]
    },
    {
      "cell_type": "code",
      "metadata": {
        "id": "w9oYEgUUc44D",
        "colab_type": "code",
        "colab": {
          "base_uri": "https://localhost:8080/",
          "height": 1000
        },
        "outputId": "6c8437cf-e5d1-4fce-ce3f-95a868c2bba3"
      },
      "source": [
        "help(np.random.randint)"
      ],
      "execution_count": 65,
      "outputs": [
        {
          "output_type": "stream",
          "text": [
            "Help on built-in function randint:\n",
            "\n",
            "randint(...) method of numpy.random.mtrand.RandomState instance\n",
            "    randint(low, high=None, size=None, dtype='l')\n",
            "    \n",
            "    Return random integers from `low` (inclusive) to `high` (exclusive).\n",
            "    \n",
            "    Return random integers from the \"discrete uniform\" distribution of\n",
            "    the specified dtype in the \"half-open\" interval [`low`, `high`). If\n",
            "    `high` is None (the default), then results are from [0, `low`).\n",
            "    \n",
            "    Parameters\n",
            "    ----------\n",
            "    low : int or array-like of ints\n",
            "        Lowest (signed) integers to be drawn from the distribution (unless\n",
            "        ``high=None``, in which case this parameter is one above the\n",
            "        *highest* such integer).\n",
            "    high : int or array-like of ints, optional\n",
            "        If provided, one above the largest (signed) integer to be drawn\n",
            "        from the distribution (see above for behavior if ``high=None``).\n",
            "        If array-like, must contain integer values\n",
            "    size : int or tuple of ints, optional\n",
            "        Output shape.  If the given shape is, e.g., ``(m, n, k)``, then\n",
            "        ``m * n * k`` samples are drawn.  Default is None, in which case a\n",
            "        single value is returned.\n",
            "    dtype : dtype, optional\n",
            "        Desired dtype of the result. All dtypes are determined by their\n",
            "        name, i.e., 'int64', 'int', etc, so byteorder is not available\n",
            "        and a specific precision may have different C types depending\n",
            "        on the platform. The default value is 'np.int'.\n",
            "    \n",
            "        .. versionadded:: 1.11.0\n",
            "    \n",
            "    Returns\n",
            "    -------\n",
            "    out : int or ndarray of ints\n",
            "        `size`-shaped array of random integers from the appropriate\n",
            "        distribution, or a single such random int if `size` not provided.\n",
            "    \n",
            "    See Also\n",
            "    --------\n",
            "    random.random_integers : similar to `randint`, only for the closed\n",
            "        interval [`low`, `high`], and 1 is the lowest value if `high` is\n",
            "        omitted.\n",
            "    \n",
            "    Examples\n",
            "    --------\n",
            "    >>> np.random.randint(2, size=10)\n",
            "    array([1, 0, 0, 0, 1, 1, 0, 0, 1, 0]) # random\n",
            "    >>> np.random.randint(1, size=10)\n",
            "    array([0, 0, 0, 0, 0, 0, 0, 0, 0, 0])\n",
            "    \n",
            "    Generate a 2 x 4 array of ints between 0 and 4, inclusive:\n",
            "    \n",
            "    >>> np.random.randint(5, size=(2, 4))\n",
            "    array([[4, 0, 2, 1], # random\n",
            "           [3, 2, 2, 0]])\n",
            "    \n",
            "    Generate a 1 x 3 array with 3 different upper bounds\n",
            "    \n",
            "    >>> np.random.randint(1, [3, 5, 10])\n",
            "    array([2, 2, 9]) # random\n",
            "    \n",
            "    Generate a 1 by 3 array with 3 different lower bounds\n",
            "    \n",
            "    >>> np.random.randint([1, 5, 7], 10)\n",
            "    array([9, 8, 7]) # random\n",
            "    \n",
            "    Generate a 2 by 4 array using broadcasting with dtype of uint8\n",
            "    \n",
            "    >>> np.random.randint([1, 3, 5, 7], [[10], [20]], dtype=np.uint8)\n",
            "    array([[ 8,  6,  9,  7], # random\n",
            "           [ 1, 16,  9, 12]], dtype=uint8)\n",
            "\n"
          ],
          "name": "stdout"
        }
      ]
    },
    {
      "cell_type": "markdown",
      "metadata": {
        "id": "I4CVX6HVdov3",
        "colab_type": "text"
      },
      "source": [
        "# 함수"
      ]
    },
    {
      "cell_type": "code",
      "metadata": {
        "id": "W_NH_LlfdqGx",
        "colab_type": "code",
        "colab": {
          "base_uri": "https://localhost:8080/",
          "height": 74
        },
        "outputId": "73ccd156-3c7c-4c5b-a480-c8e8db4be8b2"
      },
      "source": [
        "def my_func(x):\n",
        "  print(x+10)\n",
        "  print(x*2)\n",
        "  return x\n",
        "\n",
        "print('주어진 값: ', my_func(5))"
      ],
      "execution_count": 72,
      "outputs": [
        {
          "output_type": "stream",
          "text": [
            "15\n",
            "10\n",
            "주어진 값:  5\n"
          ],
          "name": "stdout"
        }
      ]
    },
    {
      "cell_type": "code",
      "metadata": {
        "id": "1HiVTTFpfVt4",
        "colab_type": "code",
        "colab": {
          "base_uri": "https://localhost:8080/",
          "height": 36
        },
        "outputId": "ec098829-3eb9-4636-9cbc-ce93fb16422e"
      },
      "source": [
        "def my_func1(d):\n",
        "    m = np.mean(d)\n",
        "    s = np.std(d)\n",
        "    return m, s\n",
        "\n",
        "# 실행부\n",
        "data = np.random.randint(100)\n",
        "data_mean, data_std = my_func1(data)\n",
        "print('mean: {0:3.2f}, std: {1:3.2f}'.format(data_mean, data_std))"
      ],
      "execution_count": 79,
      "outputs": [
        {
          "output_type": "stream",
          "text": [
            "mean: 20.00, std: 0.00\n"
          ],
          "name": "stdout"
        }
      ]
    },
    {
      "cell_type": "code",
      "metadata": {
        "id": "Gjo5dEnnf3HL",
        "colab_type": "code",
        "colab": {
          "base_uri": "https://localhost:8080/",
          "height": 74
        },
        "outputId": "260e82e4-a83a-41c9-9eb7-c5e9e0b42a86"
      },
      "source": [
        "result = my_func1(data)\n",
        "print(result)\n",
        "print(type(result))\n",
        "print('mean: {0:3.2f}, std: {1:3.2f}'.format(result[0], result[1]))"
      ],
      "execution_count": 81,
      "outputs": [
        {
          "output_type": "stream",
          "text": [
            "(20.0, 0.0)\n",
            "<class 'tuple'>\n",
            "mean: 20.00, std: 0.00\n"
          ],
          "name": "stdout"
        }
      ]
    },
    {
      "cell_type": "markdown",
      "metadata": {
        "id": "ZDv9WjHbg9-7",
        "colab_type": "text"
      },
      "source": [
        "# 파일 저장"
      ]
    },
    {
      "cell_type": "code",
      "metadata": {
        "id": "tH2B2Uqeg_dO",
        "colab_type": "code",
        "colab": {
          "base_uri": "https://localhost:8080/",
          "height": 112
        },
        "outputId": "aef8b36a-8df4-4bff-aefa-9ad1b025a5b8"
      },
      "source": [
        "data = np.random.rand(10)\n",
        "print(data)\n",
        "np.save('data.npy', data)   # data 내용 파일로 저장\n",
        "data= []    # data변수에 저장되어있던 데이터를 삭제한다.\n",
        "print(data)\n",
        "data = np.load('data.npy')\n",
        "print(data)"
      ],
      "execution_count": 82,
      "outputs": [
        {
          "output_type": "stream",
          "text": [
            "[0.78649595 0.20022429 0.38863239 0.44387385 0.56229891 0.76832141\n",
            " 0.00098621 0.84624038 0.12642187 0.263973  ]\n",
            "[]\n",
            "[0.78649595 0.20022429 0.38863239 0.44387385 0.56229891 0.76832141\n",
            " 0.00098621 0.84624038 0.12642187 0.263973  ]\n"
          ],
          "name": "stdout"
        }
      ]
    },
    {
      "cell_type": "code",
      "metadata": {
        "id": "4KeHnRQhhpko",
        "colab_type": "code",
        "colab": {
          "base_uri": "https://localhost:8080/",
          "height": 93
        },
        "outputId": "7cdc3bcf-e67b-40a4-8efa-a0afe1b63239"
      },
      "source": [
        "data1 = np.array([1, 2, 3])\n",
        "data2 = np.array([10, 20, 30])\n",
        "print(data1, data2)\n",
        "np.savez('dataz.npz', d1 = data1, d2 = data2)   # 데이터를 파일에 저장\n",
        "data1 = []\n",
        "data2 = []\n",
        "print(data1, data2)\n",
        "outfile = np.load('dataz.npz')     # 저장한 데이터를 load\n",
        "print(outfile.files)\n",
        "data1 = outfile['d1']\n",
        "data2 = outfile['d2']\n",
        "print(data1, data2)"
      ],
      "execution_count": 87,
      "outputs": [
        {
          "output_type": "stream",
          "text": [
            "[1 2 3] [10 20 30]\n",
            "[] []\n",
            "['d1', 'd2']\n",
            "[1 2 3] [10 20 30]\n"
          ],
          "name": "stdout"
        }
      ]
    }
  ]
}