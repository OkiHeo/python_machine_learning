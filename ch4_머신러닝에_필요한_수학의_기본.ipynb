{
  "nbformat": 4,
  "nbformat_minor": 0,
  "metadata": {
    "colab": {
      "name": "ch4 머신러닝에 필요한 수학의 기본.ipynb",
      "provenance": [],
      "authorship_tag": "ABX9TyMacBhuDdriZrOefkmaYgtF",
      "include_colab_link": true
    },
    "kernelspec": {
      "name": "python3",
      "display_name": "Python 3"
    }
  },
  "cells": [
    {
      "cell_type": "markdown",
      "metadata": {
        "id": "view-in-github",
        "colab_type": "text"
      },
      "source": [
        "<a href=\"https://colab.research.google.com/github/OkiHeo/python_machine_learning/blob/master/ch4_%EB%A8%B8%EC%8B%A0%EB%9F%AC%EB%8B%9D%EC%97%90_%ED%95%84%EC%9A%94%ED%95%9C_%EC%88%98%ED%95%99%EC%9D%98_%EA%B8%B0%EB%B3%B8.ipynb\" target=\"_parent\"><img src=\"https://colab.research.google.com/assets/colab-badge.svg\" alt=\"Open In Colab\"/></a>"
      ]
    },
    {
      "cell_type": "markdown",
      "metadata": {
        "id": "FY7TuCsHi9ZT",
        "colab_type": "text"
      },
      "source": [
        "#4.1 벡터"
      ]
    },
    {
      "cell_type": "code",
      "metadata": {
        "id": "TKaZ9OMui55u",
        "colab_type": "code",
        "colab": {}
      },
      "source": [
        "import numpy as np"
      ],
      "execution_count": 0,
      "outputs": []
    },
    {
      "cell_type": "code",
      "metadata": {
        "id": "WFjC2bVYk9RG",
        "colab_type": "code",
        "outputId": "398bd9b8-584e-4465-b618-d3c922b4f80c",
        "colab": {
          "base_uri": "https://localhost:8080/",
          "height": 55
        }
      },
      "source": [
        "a = np.array([2,1])\n",
        "print(a)\n",
        "print(type(a))"
      ],
      "execution_count": 0,
      "outputs": [
        {
          "output_type": "stream",
          "text": [
            "[2 1]\n",
            "<class 'numpy.ndarray'>\n"
          ],
          "name": "stdout"
        }
      ]
    },
    {
      "cell_type": "code",
      "metadata": {
        "id": "Mt1q5JcXlhDz",
        "colab_type": "code",
        "outputId": "a8e8f5b9-28c5-4790-a121-b1e41bf58560",
        "colab": {
          "base_uri": "https://localhost:8080/",
          "height": 74
        }
      },
      "source": [
        "b = np.array([[1,2], [3,4]])\n",
        "print(b)\n",
        "print(type(b))"
      ],
      "execution_count": 0,
      "outputs": [
        {
          "output_type": "stream",
          "text": [
            "[[1 2]\n",
            " [3 4]]\n",
            "<class 'numpy.ndarray'>\n"
          ],
          "name": "stdout"
        }
      ]
    },
    {
      "cell_type": "code",
      "metadata": {
        "id": "eQXEz1HamDJK",
        "colab_type": "code",
        "outputId": "b2f0592e-3934-436a-fc78-15ad5232f799",
        "colab": {
          "base_uri": "https://localhost:8080/",
          "height": 74
        }
      },
      "source": [
        "#리스트 4-1-(6)\n",
        "b = np.array([[2], [1]])\n",
        "print(b)\n",
        "print(b.T)"
      ],
      "execution_count": 0,
      "outputs": [
        {
          "output_type": "stream",
          "text": [
            "[[2]\n",
            " [1]]\n",
            "[[2 1]]\n"
          ],
          "name": "stdout"
        }
      ]
    },
    {
      "cell_type": "code",
      "metadata": {
        "id": "1UgNa3cumdUs",
        "colab_type": "code",
        "outputId": "bf0eface-b1b9-41c3-f78f-236c7ba4b6d8",
        "colab": {
          "base_uri": "https://localhost:8080/",
          "height": 36
        }
      },
      "source": [
        "#리스트 4-1-(7)\n",
        "a = np.array([2, 1])\n",
        "b = np.array([1, 3])\n",
        "print(a+b)"
      ],
      "execution_count": 0,
      "outputs": [
        {
          "output_type": "stream",
          "text": [
            "[3 4]\n"
          ],
          "name": "stdout"
        }
      ]
    },
    {
      "cell_type": "code",
      "metadata": {
        "id": "-l7_r9vkmrJF",
        "colab_type": "code",
        "outputId": "0241e6b0-d1ae-46c8-b774-c797c484944e",
        "colab": {
          "base_uri": "https://localhost:8080/",
          "height": 36
        }
      },
      "source": [
        "#리스트 4-1-(8)\n",
        "a = np.array([2, 1])\n",
        "b = np.array([1, 3])\n",
        "print(a-b)"
      ],
      "execution_count": 0,
      "outputs": [
        {
          "output_type": "stream",
          "text": [
            "[ 1 -2]\n"
          ],
          "name": "stdout"
        }
      ]
    },
    {
      "cell_type": "code",
      "metadata": {
        "id": "FX7eresJnc5J",
        "colab_type": "code",
        "outputId": "03204730-e54e-4086-e119-d3dd19021291",
        "colab": {
          "base_uri": "https://localhost:8080/",
          "height": 36
        }
      },
      "source": [
        "print(2*a)"
      ],
      "execution_count": 0,
      "outputs": [
        {
          "output_type": "stream",
          "text": [
            "[4 2]\n"
          ],
          "name": "stdout"
        }
      ]
    },
    {
      "cell_type": "code",
      "metadata": {
        "id": "GL_NpF2aoBNx",
        "colab_type": "code",
        "outputId": "00d58507-b59f-402b-c5c3-97d0225793b7",
        "colab": {
          "base_uri": "https://localhost:8080/",
          "height": 36
        }
      },
      "source": [
        "# 리스트 4-1-(10)\n",
        "b = np.array([1, 2])\n",
        "c = np.array([5, 6])\n",
        "print(b.dot(c))"
      ],
      "execution_count": 0,
      "outputs": [
        {
          "output_type": "stream",
          "text": [
            "17\n"
          ],
          "name": "stdout"
        }
      ]
    },
    {
      "cell_type": "code",
      "metadata": {
        "id": "RdQXZQQBpeWN",
        "colab_type": "code",
        "outputId": "45dfb960-f578-460a-8847-b9b4d9df5e02",
        "colab": {
          "base_uri": "https://localhost:8080/",
          "height": 36
        }
      },
      "source": [
        "# 리스트 4-1-(11)\n",
        "a = np.array([3,4])\n",
        "print(np.linalg.norm(a))"
      ],
      "execution_count": 0,
      "outputs": [
        {
          "output_type": "stream",
          "text": [
            "5.0\n"
          ],
          "name": "stdout"
        }
      ]
    },
    {
      "cell_type": "markdown",
      "metadata": {
        "id": "1IaP9b8_rImN",
        "colab_type": "text"
      },
      "source": [
        "#4.2 합의 기호"
      ]
    },
    {
      "cell_type": "code",
      "metadata": {
        "id": "KmL8Od6DrKjp",
        "colab_type": "code",
        "outputId": "c9df9b9e-1861-44e2-8917-4272464b0757",
        "colab": {
          "base_uri": "https://localhost:8080/",
          "height": 36
        }
      },
      "source": [
        "# 리스트 4-2-(1)\n",
        "import numpy as np\n",
        "a = np.ones(1000)\n",
        "b = np.arange(1, 1001)\n",
        "print(a.dot(b))"
      ],
      "execution_count": 0,
      "outputs": [
        {
          "output_type": "stream",
          "text": [
            "500500.0\n"
          ],
          "name": "stdout"
        }
      ]
    },
    {
      "cell_type": "markdown",
      "metadata": {
        "id": "TnSjbU-l4L4w",
        "colab_type": "text"
      },
      "source": [
        "### 4.5.3 경사를 그림으로 나타내기"
      ]
    },
    {
      "cell_type": "code",
      "metadata": {
        "id": "dyqPLe2b4OCe",
        "colab_type": "code",
        "outputId": "56248f83-60e4-4c75-b62c-1f13aae56f6d",
        "colab": {
          "base_uri": "https://localhost:8080/",
          "height": 284
        }
      },
      "source": [
        "# 리스트 4-2-(2)\n",
        "import numpy as np\n",
        "import matplotlib.pyplot as plt\n",
        "\n",
        "## 함수 f1정의\n",
        "def f1(w0, w1):\n",
        "  return w0**2 + 2*w0*w1 + 3\n",
        "\n",
        "## f의 w0에 대한 편미분\n",
        "def df_dw0(w0, w1):\n",
        "  return 2*w0 + 2*w1\n",
        "\n",
        "## f의 w1에 대한 편미분\n",
        "def df_dw1(w0, w1):\n",
        "  return 2*w0 + 0*w1\n",
        "\n",
        "w_range = 2\n",
        "dw = 0.25\n",
        "w0 = np.arange(-w_range, w_range+dw, dw)\n",
        "w1 = np.arange(-w_range, w_range+dw, dw)\n",
        "wn = w0.shape[0]\n",
        "ww0, ww1 = np.meshgrid(w0, w1)    #격자 모양으로 나눈 w0와 w1을 2차원 배열 ww0, ww1에 저장.\n",
        "\n",
        "ff = np.zeros((len(w0), len(w1)))\n",
        "dff_dw0 = np.zeros((len(w0), len(w1)))\n",
        "dff_dw1 = np.zeros((len(w0), len(w1)))\n",
        "\n",
        "## ww0와 ww1에 대한 f, 편미분의 값 계산\n",
        "for i0 in range(wn):    #E\n",
        "  for i1 in range(wn):\n",
        "    ff[i1, i0] = f1(w0[i0], w1[i1])\n",
        "    dff_dw0[i1, i0] = df_dw0(w0[i0], w1[i1])\n",
        "    dff_dw1[i1, i0] = df_dw1(w0[i0], w1[i1])\n",
        "\n",
        "# 그래프로 나타낸다.\n",
        "plt.figure(figsize=(9, 4))\n",
        "plt.subplots_adjust(wspace = 0.3)\n",
        "plt.subplot(1, 2, 1)\n",
        "cont = plt.contour(ww0, ww1, ff, 10, colors='k')    # f의 등고선 표시\n",
        "cont.clabel(fmt='%2.0f', fontsize=8)\n",
        "plt.xticks(range(-w_range, w_range+1, 1))\n",
        "plt.yticks(range(-w_range, w_range+1, 1))\n",
        "plt.xlim(-w_range-0.5, w_range+0.5)\n",
        "plt.ylim(-w_range-0.5, w_range+0.5)\n",
        "plt.xlabel('$w_0$', fontsize=14)\n",
        "plt.ylabel('$w_1$', fontsize=14)\n",
        "\n",
        "plt.subplot(1, 2, 2)\n",
        "plt.quiver(ww0, ww1, dff_dw0, dff_dw1)    #경사 벡터를 화살표로 표시.\n",
        "plt.xlabel('$w_0$', fontsize=14)\n",
        "plt.ylabel('$w_1$', fontsize=14)\n",
        "plt.xticks(range(-w_range, w_range+1, 1))\n",
        "plt.yticks(range(-w_range, w_range+1, 1))\n",
        "plt.xlim(-w_range-0.5, w_range+0.5)\n",
        "plt.ylim(-w_range-0.5, w_range+0.5)\n",
        "plt.show()"
      ],
      "execution_count": 0,
      "outputs": [
        {
          "output_type": "display_data",
          "data": {
            "image/png": "[encoded data removed]",
            "text/plain": [
              "<Figure size 648x288 with 2 Axes>"
            ]
          },
          "metadata": {
            "tags": []
          }
        }
      ]
    },
    {
      "cell_type": "code",
      "metadata": {
        "id": "QXvlMaNchy5n",
        "colab_type": "code",
        "outputId": "0fd5f887-76bd-4c0a-a6fa-402f18e0091f",
        "colab": {
          "base_uri": "https://localhost:8080/",
          "height": 1000
        }
      },
      "source": [
        "help(plt.contour)"
      ],
      "execution_count": 0,
      "outputs": [
        {
          "output_type": "stream",
          "text": [
            "Help on function contour in module matplotlib.pyplot:\n",
            "\n",
            "contour(*args, data=None, **kwargs)\n",
            "    Plot contours.\n",
            "    \n",
            "    Call signature::\n",
            "    \n",
            "        contour([X, Y,] Z, [levels], **kwargs)\n",
            "    \n",
            "    `.contour` and `.contourf` draw contour lines and filled contours,\n",
            "    respectively.  Except as noted, function signatures and return values\n",
            "    are the same for both versions.\n",
            "    \n",
            "    Parameters\n",
            "    ----------\n",
            "    X, Y : array-like, optional\n",
            "        The coordinates of the values in *Z*.\n",
            "    \n",
            "        *X* and *Y* must both be 2-D with the same shape as *Z* (e.g.\n",
            "        created via `numpy.meshgrid`), or they must both be 1-D such\n",
            "        that ``len(X) == M`` is the number of columns in *Z* and\n",
            "        ``len(Y) == N`` is the number of rows in *Z*.\n",
            "    \n",
            "        If not given, they are assumed to be integer indices, i.e.\n",
            "        ``X = range(M)``, ``Y = range(N)``.\n",
            "    \n",
            "    Z : array-like(N, M)\n",
            "        The height values over which the contour is drawn.\n",
            "    \n",
            "    levels : int or array-like, optional\n",
            "        Determines the number and positions of the contour lines / regions.\n",
            "    \n",
            "        If an int *n*, use *n* data intervals; i.e. draw *n+1* contour\n",
            "        lines. The level heights are automatically chosen.\n",
            "    \n",
            "        If array-like, draw contour lines at the specified levels.\n",
            "        The values must be in increasing order.\n",
            "    \n",
            "    Returns\n",
            "    -------\n",
            "    c : `~.contour.QuadContourSet`\n",
            "    \n",
            "    Other Parameters\n",
            "    ----------------\n",
            "    corner_mask : bool, optional\n",
            "        Enable/disable corner masking, which only has an effect if *Z* is\n",
            "        a masked array.  If ``False``, any quad touching a masked point is\n",
            "        masked out.  If ``True``, only the triangular corners of quads\n",
            "        nearest those points are always masked out, other triangular\n",
            "        corners comprising three unmasked points are contoured as usual.\n",
            "    \n",
            "        Defaults to :rc:`contour.corner_mask`, which defaults to ``True``.\n",
            "    \n",
            "    colors : color string or sequence of colors, optional\n",
            "        The colors of the levels, i.e. the lines for `.contour` and the\n",
            "        areas for `.contourf`.\n",
            "    \n",
            "        The sequence is cycled for the levels in ascending order. If the\n",
            "        sequence is shorter than the number of levels, it's repeated.\n",
            "    \n",
            "        As a shortcut, single color strings may be used in place of\n",
            "        one-element lists, i.e. ``'red'`` instead of ``['red']`` to color\n",
            "        all levels with the same color. This shortcut does only work for\n",
            "        color strings, not for other ways of specifying colors.\n",
            "    \n",
            "        By default (value *None*), the colormap specified by *cmap*\n",
            "        will be used.\n",
            "    \n",
            "    alpha : float, optional\n",
            "        The alpha blending value, between 0 (transparent) and 1 (opaque).\n",
            "    \n",
            "    cmap : str or `.Colormap`, optional\n",
            "        A `.Colormap` instance or registered colormap name. The colormap\n",
            "        maps the level values to colors.\n",
            "        Defaults to :rc:`image.cmap`.\n",
            "    \n",
            "        If both *colors* and *cmap* are given, an error is raised.\n",
            "    \n",
            "    norm : `~matplotlib.colors.Normalize`, optional\n",
            "        If a colormap is used, the `.Normalize` instance scales the level\n",
            "        values to the canonical colormap range [0, 1] for mapping to\n",
            "        colors. If not given, the default linear scaling is used.\n",
            "    \n",
            "    vmin, vmax : float, optional\n",
            "        If not *None*, either or both of these values will be supplied to\n",
            "        the `.Normalize` instance, overriding the default color scaling\n",
            "        based on *levels*.\n",
            "    \n",
            "    origin : {*None*, 'upper', 'lower', 'image'}, optional\n",
            "        Determines the orientation and exact position of *Z* by specifying\n",
            "        the position of ``Z[0, 0]``.  This is only relevant, if *X*, *Y*\n",
            "        are not given.\n",
            "    \n",
            "        - *None*: ``Z[0, 0]`` is at X=0, Y=0 in the lower left corner.\n",
            "        - 'lower': ``Z[0, 0]`` is at X=0.5, Y=0.5 in the lower left corner.\n",
            "        - 'upper': ``Z[0, 0]`` is at X=N+0.5, Y=0.5 in the upper left\n",
            "          corner.\n",
            "        - 'image': Use the value from :rc:`image.origin`.\n",
            "    \n",
            "    extent : (x0, x1, y0, y1), optional\n",
            "        If *origin* is not *None*, then *extent* is interpreted as in\n",
            "        `.imshow`: it gives the outer pixel boundaries. In this case, the\n",
            "        position of Z[0,0] is the center of the pixel, not a corner. If\n",
            "        *origin* is *None*, then (*x0*, *y0*) is the position of Z[0,0],\n",
            "        and (*x1*, *y1*) is the position of Z[-1,-1].\n",
            "    \n",
            "        This argument is ignored if *X* and *Y* are specified in the call\n",
            "        to contour.\n",
            "    \n",
            "    locator : ticker.Locator subclass, optional\n",
            "        The locator is used to determine the contour levels if they\n",
            "        are not given explicitly via *levels*.\n",
            "        Defaults to `~.ticker.MaxNLocator`.\n",
            "    \n",
            "    extend : {'neither', 'both', 'min', 'max'}, optional, default: 'neither'\n",
            "        Determines the ``contourf``-coloring of values that are outside the\n",
            "        *levels* range.\n",
            "    \n",
            "        If 'neither', values outside the *levels* range are not colored.\n",
            "        If 'min', 'max' or 'both', color the values below, above or below\n",
            "        and above the *levels* range.\n",
            "    \n",
            "        Values below ``min(levels)`` and above ``max(levels)`` are mapped\n",
            "        to the under/over values of the `.Colormap`. Note, that most\n",
            "        colormaps do not have dedicated colors for these by default, so\n",
            "        that the over and under values are the edge values of the colormap.\n",
            "        You may want to set these values explicitly using\n",
            "        `.Colormap.set_under` and `.Colormap.set_over`.\n",
            "    \n",
            "        .. note::\n",
            "    \n",
            "            An exising `.QuadContourSet` does not get notified if\n",
            "            properties of its colormap are changed. Therefore, an explicit\n",
            "            call `.QuadContourSet.changed()` is needed after modifying the\n",
            "            colormap. The explicit call can be left out, if a colorbar is\n",
            "            assigned to the `.QuadContourSet` because it internally calls\n",
            "            `.QuadContourSet.changed()`.\n",
            "    \n",
            "        Example::\n",
            "    \n",
            "            x = np.arange(1, 10)\n",
            "            y = x.reshape(-1, 1)\n",
            "            h = x * y\n",
            "    \n",
            "            cs = plt.contourf(h, levels=[10, 30, 50],\n",
            "                colors=['#808080', '#A0A0A0', '#C0C0C0'], extend='both')\n",
            "            cs.cmap.set_over('red')\n",
            "            cs.cmap.set_under('blue')\n",
            "            cs.changed()\n",
            "    \n",
            "    xunits, yunits : registered units, optional\n",
            "        Override axis units by specifying an instance of a\n",
            "        :class:`matplotlib.units.ConversionInterface`.\n",
            "    \n",
            "    antialiased : bool, optional\n",
            "        Enable antialiasing, overriding the defaults.  For\n",
            "        filled contours, the default is *True*.  For line contours,\n",
            "        it is taken from :rc:`lines.antialiased`.\n",
            "    \n",
            "    Nchunk : int >= 0, optional\n",
            "        If 0, no subdivision of the domain.  Specify a positive integer to\n",
            "        divide the domain into subdomains of *nchunk* by *nchunk* quads.\n",
            "        Chunking reduces the maximum length of polygons generated by the\n",
            "        contouring algorithm which reduces the rendering workload passed\n",
            "        on to the backend and also requires slightly less RAM.  It can\n",
            "        however introduce rendering artifacts at chunk boundaries depending\n",
            "        on the backend, the *antialiased* flag and value of *alpha*.\n",
            "    \n",
            "    linewidths : float or sequence of float, optional\n",
            "        *Only applies to* `.contour`.\n",
            "    \n",
            "        The line width of the contour lines.\n",
            "    \n",
            "        If a number, all levels will be plotted with this linewidth.\n",
            "    \n",
            "        If a sequence, the levels in ascending order will be plotted with\n",
            "        the linewidths in the order specified.\n",
            "    \n",
            "        Defaults to :rc:`lines.linewidth`.\n",
            "    \n",
            "    linestyles : {*None*, 'solid', 'dashed', 'dashdot', 'dotted'}, optional\n",
            "        *Only applies to* `.contour`.\n",
            "    \n",
            "        If *linestyles* is *None*, the default is 'solid' unless the lines\n",
            "        are monochrome.  In that case, negative contours will take their\n",
            "        linestyle from :rc:`contour.negative_linestyle` setting.\n",
            "    \n",
            "        *linestyles* can also be an iterable of the above strings\n",
            "        specifying a set of linestyles to be used. If this\n",
            "        iterable is shorter than the number of contour levels\n",
            "        it will be repeated as necessary.\n",
            "    \n",
            "    hatches : List[str], optional\n",
            "        *Only applies to* `.contourf`.\n",
            "    \n",
            "        A list of cross hatch patterns to use on the filled areas.\n",
            "        If None, no hatching will be added to the contour.\n",
            "        Hatching is supported in the PostScript, PDF, SVG and Agg\n",
            "        backends only.\n",
            "    \n",
            "    Notes\n",
            "    -----\n",
            "    1. `.contourf` differs from the MATLAB version in that it does not draw\n",
            "       the polygon edges. To draw edges, add line contours with calls to\n",
            "       `.contour`.\n",
            "    \n",
            "    2. `.contourf` fills intervals that are closed at the top; that is, for\n",
            "       boundaries *z1* and *z2*, the filled region is::\n",
            "    \n",
            "          z1 < Z <= z2\n",
            "    \n",
            "       except for the lowest interval, which is closed on both sides (i.e.\n",
            "       it includes the lowest value).\n",
            "\n"
          ],
          "name": "stdout"
        }
      ]
    },
    {
      "cell_type": "code",
      "metadata": {
        "id": "9SBv4_-ela1g",
        "colab_type": "code",
        "outputId": "91417c3d-f626-4f7a-b0d4-07c292944d2b",
        "colab": {
          "base_uri": "https://localhost:8080/",
          "height": 1000
        }
      },
      "source": [
        "help(plt.quiver)"
      ],
      "execution_count": 0,
      "outputs": [
        {
          "output_type": "stream",
          "text": [
            "Help on function quiver in module matplotlib.pyplot:\n",
            "\n",
            "quiver(*args, data=None, **kw)\n",
            "    Plot a 2D field of arrows.\n",
            "    \n",
            "    Call signature::\n",
            "    \n",
            "      quiver([X, Y], U, V, [C], **kw)\n",
            "    \n",
            "    Where *X*, *Y* define the arrow locations, *U*, *V* define the arrow\n",
            "    directions, and *C* optionally sets the color.\n",
            "    \n",
            "    **Arrow size**\n",
            "    \n",
            "    The default settings auto-scales the length of the arrows to a reasonable size.\n",
            "    To change this behavior see the *scale* and *scale_units* parameters.\n",
            "    \n",
            "    **Arrow shape**\n",
            "    \n",
            "    The defaults give a slightly swept-back arrow; to make the head a\n",
            "    triangle, make *headaxislength* the same as *headlength*. To make the\n",
            "    arrow more pointed, reduce *headwidth* or increase *headlength* and\n",
            "    *headaxislength*. To make the head smaller relative to the shaft,\n",
            "    scale down all the head parameters. You will probably do best to leave\n",
            "    minshaft alone.\n",
            "    \n",
            "    **Arrow outline**\n",
            "    \n",
            "    *linewidths* and *edgecolors* can be used to customize the arrow\n",
            "    outlines.\n",
            "    \n",
            "    Parameters\n",
            "    ----------\n",
            "    X, Y : 1D or 2D array-like, optional\n",
            "        The x and y coordinates of the arrow locations.\n",
            "    \n",
            "        If not given, they will be generated as a uniform integer meshgrid based\n",
            "        on the dimensions of *U* and *V*.\n",
            "    \n",
            "        If *X* and *Y* are 1D but *U*, *V* are 2D, *X*, *Y* are expanded to 2D\n",
            "        using ``X, Y = np.meshgrid(X, Y)``. In this case ``len(X)`` and ``len(Y)``\n",
            "        must match the column and row dimensions of *U* and *V*.\n",
            "    \n",
            "    U, V : 1D or 2D array-like\n",
            "        The x and y direction components of the arrow vectors.\n",
            "    \n",
            "    C : 1D or 2D array-like, optional\n",
            "        Numeric data that defines the arrow colors by colormapping via *norm* and\n",
            "        *cmap*.\n",
            "    \n",
            "        This does not support explicit colors. If you want to set colors directly,\n",
            "        use *color* instead.\n",
            "    \n",
            "    units : {'width', 'height', 'dots', 'inches', 'x', 'y' 'xy'}, default: 'width'\n",
            "        The arrow dimensions (except for *length*) are measured in multiples of\n",
            "        this unit.\n",
            "    \n",
            "        The following values are supported:\n",
            "    \n",
            "        - 'width', 'height': The width or height of the axis.\n",
            "        - 'dots', 'inches': Pixels or inches based on the figure dpi.\n",
            "        - 'x', 'y', 'xy': *X*, *Y* or :math:`\\sqrt{X^2 + Y^2}` in data units.\n",
            "    \n",
            "        The arrows scale differently depending on the units.  For\n",
            "        'x' or 'y', the arrows get larger as one zooms in; for other\n",
            "        units, the arrow size is independent of the zoom state.  For\n",
            "        'width or 'height', the arrow size increases with the width and\n",
            "        height of the axes, respectively, when the window is resized;\n",
            "        for 'dots' or 'inches', resizing does not change the arrows.\n",
            "    \n",
            "    angles : {'uv', 'xy'} or array-like, optional, default: 'uv'\n",
            "        Method for determining the angle of the arrows.\n",
            "    \n",
            "        - 'uv': The arrow axis aspect ratio is 1 so that\n",
            "          if *U* == *V* the orientation of the arrow on the plot is 45 degrees\n",
            "          counter-clockwise from the horizontal axis (positive to the right).\n",
            "    \n",
            "          Use this if the arrows symbolize a quantity that is not based on\n",
            "          *X*, *Y* data coordinates.\n",
            "    \n",
            "        - 'xy': Arrows point from (x,y) to (x+u, y+v).\n",
            "          Use this for plotting a gradient field, for example.\n",
            "    \n",
            "        - Alternatively, arbitrary angles may be specified explicitly as an array\n",
            "          of values in degrees, counter-clockwise from the horizontal axis.\n",
            "    \n",
            "          In this case *U*, *V* is only used to determine the length of the\n",
            "          arrows.\n",
            "    \n",
            "        Note: inverting a data axis will correspondingly invert the\n",
            "        arrows only with ``angles='xy'``.\n",
            "    \n",
            "    scale : float, optional\n",
            "        Number of data units per arrow length unit, e.g., m/s per plot width; a\n",
            "        smaller scale parameter makes the arrow longer. Default is *None*.\n",
            "    \n",
            "        If *None*, a simple autoscaling algorithm is used, based on the average\n",
            "        vector length and the number of vectors. The arrow length unit is given by\n",
            "        the *scale_units* parameter.\n",
            "    \n",
            "    scale_units : {'width', 'height', 'dots', 'inches', 'x', 'y', 'xy'}, optional\n",
            "        If the *scale* kwarg is *None*, the arrow length unit. Default is *None*.\n",
            "    \n",
            "        e.g. *scale_units* is 'inches', *scale* is 2.0, and\n",
            "        ``(u,v) = (1,0)``, then the vector will be 0.5 inches long.\n",
            "    \n",
            "        If *scale_units* is 'width' or 'height', then the vector will be half the\n",
            "        width/height of the axes.\n",
            "    \n",
            "        If *scale_units* is 'x' then the vector will be 0.5 x-axis\n",
            "        units. To plot vectors in the x-y plane, with u and v having\n",
            "        the same units as x and y, use\n",
            "        ``angles='xy', scale_units='xy', scale=1``.\n",
            "    \n",
            "    width : float, optional\n",
            "        Shaft width in arrow units; default depends on choice of units,\n",
            "        above, and number of vectors; a typical starting value is about\n",
            "        0.005 times the width of the plot.\n",
            "    \n",
            "    headwidth : float, optional, default: 3\n",
            "        Head width as multiple of shaft width.\n",
            "    \n",
            "    headlength : float, optional, default: 5\n",
            "        Head length as multiple of shaft width.\n",
            "    \n",
            "    headaxislength : float, optional, default: 4.5\n",
            "        Head length at shaft intersection.\n",
            "    \n",
            "    minshaft : float, optional, default: 1\n",
            "        Length below which arrow scales, in units of head length. Do not\n",
            "        set this to less than 1, or small arrows will look terrible!\n",
            "    \n",
            "    minlength : float, optional, default: 1\n",
            "        Minimum length as a multiple of shaft width; if an arrow length\n",
            "        is less than this, plot a dot (hexagon) of this diameter instead.\n",
            "    \n",
            "    pivot : {'tail', 'mid', 'middle', 'tip'}, optional, default: 'tail'\n",
            "        The part of the arrow that is anchored to the *X*, *Y* grid. The arrow\n",
            "        rotates about this point.\n",
            "    \n",
            "        'mid' is a synonym for 'middle'.\n",
            "    \n",
            "    color : color or color sequence, optional\n",
            "        Explicit color(s) for the arrows. If *C* has been set, *color* has no\n",
            "        effect.\n",
            "    \n",
            "        This is a synonym for the `~.PolyCollection` *facecolor* parameter.\n",
            "    \n",
            "    Other Parameters\n",
            "    ----------------\n",
            "    **kwargs : `~matplotlib.collections.PolyCollection` properties, optional\n",
            "        All other keyword arguments are passed on to `.PolyCollection`:\n",
            "    \n",
            "          agg_filter: a filter function, which takes a (m, n, 3) float array and a dpi value, and returns a (m, n, 3) array\n",
            "      alpha: float or None\n",
            "      animated: bool\n",
            "      antialiased or aa or antialiaseds: bool or sequence of bools\n",
            "      array: ndarray\n",
            "      capstyle: {'butt', 'round', 'projecting'}\n",
            "      clim: a length 2 sequence of floats; may be overridden in methods that have ``vmin`` and ``vmax`` kwargs.\n",
            "      clip_box: `.Bbox`\n",
            "      clip_on: bool\n",
            "      clip_path: [(`~matplotlib.path.Path`, `.Transform`) | `.Patch` | None]\n",
            "      cmap: colormap or registered colormap name\n",
            "      color: color or sequence of rgba tuples\n",
            "      contains: callable\n",
            "      edgecolor or ec or edgecolors: color or sequence of colors or 'face'\n",
            "      facecolor or facecolors or fc: color or sequence of colors\n",
            "      figure: `.Figure`\n",
            "      gid: str\n",
            "      hatch: {'/', '\\\\', '|', '-', '+', 'x', 'o', 'O', '.', '*'}\n",
            "      in_layout: bool\n",
            "      joinstyle: {'miter', 'round', 'bevel'}\n",
            "      label: object\n",
            "      linestyle or dashes or linestyles or ls: {'-', '--', '-.', ':', '', (offset, on-off-seq), ...}\n",
            "      linewidth or linewidths or lw: float or sequence of floats\n",
            "      norm: `.Normalize`\n",
            "      offset_position: {'screen', 'data'}\n",
            "      offsets: float or sequence of floats\n",
            "      path_effects: `.AbstractPathEffect`\n",
            "      picker: None or bool or float or callable\n",
            "      pickradius: unknown\n",
            "      rasterized: bool or None\n",
            "      sketch_params: (scale: float, length: float, randomness: float)\n",
            "      snap: bool or None\n",
            "      transform: `.Transform`\n",
            "      url: str\n",
            "      urls: List[str] or None\n",
            "      visible: bool\n",
            "      zorder: float\n",
            "    \n",
            "    See Also\n",
            "    --------\n",
            "    quiverkey : Add a key to a quiver plot.\n",
            "\n"
          ],
          "name": "stdout"
        }
      ]
    },
    {
      "cell_type": "markdown",
      "metadata": {
        "id": "Cag1WgnPr9eg",
        "colab_type": "text"
      },
      "source": [
        "# 4.6 행렬"
      ]
    },
    {
      "cell_type": "code",
      "metadata": {
        "id": "lks1qIywrjek",
        "colab_type": "code",
        "outputId": "f956cafd-9260-4ba5-833f-71156b8f7e79",
        "colab": {
          "base_uri": "https://localhost:8080/",
          "height": 169
        }
      },
      "source": [
        "import numpy as np\n",
        "\n",
        "A = np.array([[1,2,3], [4, 5, 6]])\n",
        "print(A)\n",
        "\n",
        "B = np.array([[7, 8, 9], [10, 11, 12]])\n",
        "print(B)\n",
        "\n",
        "print(A+B)\n",
        "print(A-B)\n",
        "렬"
      ],
      "execution_count": 0,
      "outputs": [
        {
          "output_type": "stream",
          "text": [
            "[[1 2 3]\n",
            " [4 5 6]]\n",
            "[[ 7  8  9]\n",
            " [10 11 12]]\n",
            "[[ 8 10 12]\n",
            " [14 16 18]]\n",
            "[[-6 -6 -6]\n",
            " [-6 -6 -6]]\n"
          ],
          "name": "stdout"
        }
      ]
    },
    {
      "cell_type": "code",
      "metadata": {
        "id": "tuOgKxWnstTt",
        "colab_type": "code",
        "outputId": "7412d789-40ba-49fe-d90f-32a690174222",
        "colab": {
          "base_uri": "https://localhost:8080/",
          "height": 74
        }
      },
      "source": [
        "A = np.array([1, 2, 3])\n",
        "B = np.array([4, 5, 6])\n",
        "print(A*B)    # 실제 행렬의 곱셈\n",
        "print(A.dot(B)) # 행렬의 내적 연산\n",
        "print(A/B)"
      ],
      "execution_count": 0,
      "outputs": [
        {
          "output_type": "stream",
          "text": [
            "[ 4 10 18]\n",
            "32\n",
            "[0.25 0.4  0.5 ]\n"
          ],
          "name": "stdout"
        }
      ]
    },
    {
      "cell_type": "code",
      "metadata": {
        "id": "3woUFx5Yt5YZ",
        "colab_type": "code",
        "outputId": "0c6ae799-0e68-4514-a5db-39ac242016a0",
        "colab": {
          "base_uri": "https://localhost:8080/",
          "height": 55
        }
      },
      "source": [
        "A = np.array([[1, 2, 3], [-1, -2, -3]])\n",
        "B = np.array([[4, -4], [5, -5], [6, -6]])\n",
        "print(A.dot(B))"
      ],
      "execution_count": 0,
      "outputs": [
        {
          "output_type": "stream",
          "text": [
            "[[ 32 -32]\n",
            " [-32  32]]\n"
          ],
          "name": "stdout"
        }
      ]
    },
    {
      "cell_type": "code",
      "metadata": {
        "id": "_aVAm1MJudem",
        "colab_type": "code",
        "outputId": "9c81c90e-f87a-41bb-e245-f1d9e8925b3e",
        "colab": {
          "base_uri": "https://localhost:8080/",
          "height": 74
        }
      },
      "source": [
        "print(np.identity(3))"
      ],
      "execution_count": 0,
      "outputs": [
        {
          "output_type": "stream",
          "text": [
            "[[1. 0. 0.]\n",
            " [0. 1. 0.]\n",
            " [0. 0. 1.]]\n"
          ],
          "name": "stdout"
        }
      ]
    },
    {
      "cell_type": "code",
      "metadata": {
        "id": "JEnnBgH-u1ai",
        "colab_type": "code",
        "outputId": "c91a4284-f7d7-4d7c-e75f-2d19e20f1ba8",
        "colab": {
          "base_uri": "https://localhost:8080/",
          "height": 131
        }
      },
      "source": [
        "A = np.array([[1, 2, 3], [4, 5, 6], [7, 8, 9]])\n",
        "B = np.identity(3)\n",
        "print(A)\n",
        "print(A.dot(B))"
      ],
      "execution_count": 0,
      "outputs": [
        {
          "output_type": "stream",
          "text": [
            "[[1 2 3]\n",
            " [4 5 6]\n",
            " [7 8 9]]\n",
            "[[1. 2. 3.]\n",
            " [4. 5. 6.]\n",
            " [7. 8. 9.]]\n"
          ],
          "name": "stdout"
        }
      ]
    },
    {
      "cell_type": "code",
      "metadata": {
        "id": "R4LubPxevc6o",
        "colab_type": "code",
        "outputId": "a1cd8ac7-175f-4830-b35c-948912183682",
        "colab": {
          "base_uri": "https://localhost:8080/",
          "height": 131
        }
      },
      "source": [
        "A = np.array([[1, 2], [3, 4]])\n",
        "B = np.linalg.inv(A)\n",
        "print(A)\n",
        "print(B)\n",
        "print(A.dot(B))"
      ],
      "execution_count": 0,
      "outputs": [
        {
          "output_type": "stream",
          "text": [
            "[[1 2]\n",
            " [3 4]]\n",
            "[[-2.   1. ]\n",
            " [ 1.5 -0.5]]\n",
            "[[1.0000000e+00 0.0000000e+00]\n",
            " [8.8817842e-16 1.0000000e+00]]\n"
          ],
          "name": "stdout"
        }
      ]
    },
    {
      "cell_type": "code",
      "metadata": {
        "id": "ZZzScfHEv9yL",
        "colab_type": "code",
        "outputId": "8d854a18-fbf2-46a6-e853-670d13faf678",
        "colab": {
          "base_uri": "https://localhost:8080/",
          "height": 112
        }
      },
      "source": [
        "A = np.array([[1, 2, 3], [4, 5, 6]])\n",
        "B = A.T\n",
        "print(A)\n",
        "print(B)"
      ],
      "execution_count": 0,
      "outputs": [
        {
          "output_type": "stream",
          "text": [
            "[[1 2 3]\n",
            " [4 5 6]]\n",
            "[[1 4]\n",
            " [2 5]\n",
            " [3 6]]\n"
          ],
          "name": "stdout"
        }
      ]
    },
    {
      "cell_type": "markdown",
      "metadata": {
        "id": "NE5zeuBzy_6e",
        "colab_type": "text"
      },
      "source": [
        "# 4.7 지수 함수와 로그 함수"
      ]
    },
    {
      "cell_type": "markdown",
      "metadata": {
        "id": "6CxEo2MKzGlC",
        "colab_type": "text"
      },
      "source": [
        "\n",
        "y = ${1} \\over {1+e^{-x}}$ = ${1}\\over{1+exp(-x)}$\n"
      ]
    },
    {
      "cell_type": "code",
      "metadata": {
        "id": "lX_3_MUpzC3X",
        "colab_type": "code",
        "outputId": "25bbf1eb-046c-4b8a-ccd7-fe7331a79328",
        "colab": {
          "base_uri": "https://localhost:8080/",
          "height": 269
        }
      },
      "source": [
        "import numpy as np\n",
        "import matplotlib.pyplot as plt\n",
        "\n",
        "x = np.linspace(-10, 10, 100)\n",
        "y = 1/(1+np.exp(-x))\n",
        "\n",
        "plt.figure(figsize=(4, 4))\n",
        "plt.plot(x, y, 'black', linewidth=3)\n",
        "\n",
        "plt.ylim(-1, 2)\n",
        "plt.xlim(-10, 10)\n",
        "plt.grid(True)\n",
        "plt.show()"
      ],
      "execution_count": 0,
      "outputs": [
        {
          "output_type": "display_data",
          "data": {
            "image/png": "[encoded data removed]",
            "text/plain": [
              "<Figure size 288x288 with 1 Axes>"
            ]
          },
          "metadata": {
            "tags": []
          }
        }
      ]
    },
    {
      "cell_type": "markdown",
      "metadata": {
        "id": "BU5Sn-yv1ZoZ",
        "colab_type": "text"
      },
      "source": [
        "### 소프트맥스 함수"
      ]
    },
    {
      "cell_type": "code",
      "metadata": {
        "id": "xzCmMewf1bRz",
        "colab_type": "code",
        "outputId": "e446142b-1df7-4bb1-a58b-f948528b543f",
        "colab": {
          "base_uri": "https://localhost:8080/",
          "height": 55
        }
      },
      "source": [
        "import numpy as np\n",
        "def softmax(x0, x1, x2):\n",
        "  u = np.exp(x0) + np.exp(x1) + np.exp(x2)\n",
        "  return np.exp(x0)/u, np.exp(x1)/u, np.exp(x2)/u\n",
        "\n",
        "#test\n",
        "y = softmax(2, 1, -1)\n",
        "print(np.round(y, 2))   #계산된 y값을 소수점 2자리로 반올림하여 나타낸다.\n",
        "print(np.sum(y))"
      ],
      "execution_count": 0,
      "outputs": [
        {
          "output_type": "stream",
          "text": [
            "[0.71 0.26 0.04]\n",
            "1.0\n"
          ],
          "name": "stdout"
        }
      ]
    },
    {
      "cell_type": "markdown",
      "metadata": {
        "id": "9-L51NUY_Rzf",
        "colab_type": "text"
      },
      "source": [
        "### 4.7.8 가우스 함수"
      ]
    },
    {
      "cell_type": "code",
      "metadata": {
        "id": "5UJp737d_UdY",
        "colab_type": "code",
        "outputId": "6c31b06e-6bf0-40bf-f1c6-d0664b1ac9b7",
        "colab": {
          "base_uri": "https://localhost:8080/",
          "height": 269
        }
      },
      "source": [
        "def gauss(mu, sigma, a):\n",
        "  return a*np.exp(-(x-mu)**2 / sigma**2)\n",
        "\n",
        "x = np.linspace(-4, 4, 100)\n",
        "plt.figure(figsize=(4, 4))\n",
        "plt.plot(x, gauss(0, 1, 1), 'black', linewidth=3)\n",
        "plt.plot(x, gauss(2, 3, 0.5), 'red', linewidth=3)\n",
        "plt.ylim(-.5, 1,5)\n",
        "plt.xlim(-4, 4)\n",
        "plt.grid(True)\n",
        "plt.show()"
      ],
      "execution_count": 0,
      "outputs": [
        {
          "output_type": "display_data",
          "data": {
            "image/png": "[encoded data removed]",
            "text/plain": [
              "<Figure size 288x288 with 1 Axes>"
            ]
          },
          "metadata": {
            "tags": []
          }
        }
      ]
    },
    {
      "cell_type": "code",
      "metadata": {
        "id": "OSIFawh3IbV6",
        "colab_type": "code",
        "outputId": "54731fe8-635c-4659-8818-a9a8dd7aba66",
        "colab": {
          "base_uri": "https://localhost:8080/",
          "height": 36
        }
      },
      "source": [
        "import numpy as np\n",
        "import matplotlib.pyplot as plot\n",
        "from mpl_toolkits.mplot3d import axes3d\n",
        "%matplotlib inline\n",
        "\n",
        "#가우스 함수\n",
        "# x: Nx2의 행렬, mu:크기가 2인 벡터, sigma: 2x2행렬\n",
        "def gauss(x, mu, sigma):\n",
        "  N, D = x.shape    # x의 행, 열의 개수 N, D에 저장\n",
        "  c1 = 1/(2*np.pi)**(D/2)\n",
        "  c2 = 1/(np.linalg.det(sigma)**(1/2))\n",
        "  inv_sigma = np.linalg.inv(sigma)  #sigma의 역행렬을 구한다.\n",
        "  c3 = x-mu\n",
        "  c4 = np.dot(c3, inv_sigma)\n",
        "  c5 = np.zeros(N)\n",
        "\n",
        "  for d in range(D):\n",
        "    c5 = c5 +c4[:, d]*c3[:, d]\n",
        "  p = c1*c2*np.exp(-c5/2)\n",
        "  return p\n",
        "\n",
        "#test\n",
        "x = np.array([[1, 2], [2, 1], [3, 4]])\n",
        "mu = np.array([1, 2])\n",
        "sigma = np.array([[1, 0], [0, 1]])\n",
        "print(gauss(x, mu, sigma))"
      ],
      "execution_count": 0,
      "outputs": [
        {
          "output_type": "stream",
          "text": [
            "[0.15915494 0.05854983 0.00291502]\n"
          ],
          "name": "stdout"
        }
      ]
    }
  ]
}